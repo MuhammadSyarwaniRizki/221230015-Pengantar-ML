{
  "cells": [
    {
      "cell_type": "markdown",
      "id": "77f2e14d",
      "metadata": {
        "id": "77f2e14d"
      },
      "source": [
        "# Praktikum 2: Komputasi Numerik dengan NumPy Array\n",
        "\n",
        "<a href=\"https://colab.research.google.com/github/pakizhan-ump/ml-umpontianak/blob/main/Modules/Week-02/Praktikum-02/Praktikum_2_numpy.ipynb\" target=\"_parent\"><img src=\"https://colab.research.google.com/assets/colab-badge.svg\" alt=\"Open In Colab\"/></a>\n",
        "\n",
        "## 🎯 Tujuan Praktikum\n",
        "Mahasiswa mampu menggunakan library **NumPy** untuk membuat dan memanipulasi array multidimensi serta memahami keunggulannya dibandingkan List untuk komputasi numerik.\n",
        "\n",
        "## 📖 Dasar Teori\n",
        "**NumPy (Numerical Python)** adalah library fundamental untuk komputasi ilmiah di Python. Struktur data utamanya adalah **ndarray (n-dimensional array)**, yang dirancang khusus untuk operasi numerik yang efisien. Keunggulan utamanya meliputi:\n",
        "* **Homogeneous:** Semua elemen dalam sebuah array harus memiliki tipe data yang sama (misalnya, semua `float64` atau semua `int32`), yang memungkinkan penyimpanan memori yang lebih efisien.\n",
        "* **Ukuran Tetap:** Ukuran array ditentukan saat pembuatan, membuatnya lebih dapat diprediksi dalam hal alokasi memori.\n",
        "* **Efisiensi Memori & Kecepatan:** Operasi matematika pada NumPy array jauh lebih cepat karena dieksekusi oleh kode C yang terkompilasi, bukan melalui interpreter Python.\n",
        "* **Mendukung Operasi Vektorisasi:** Memungkinkan operasi matematika dilakukan pada seluruh elemen array secara bersamaan tanpa perlu menulis *loop* `for`, membuat kode lebih ringkas dan cepat.\n",
        "\n",
        "Dalam machine learning, data seperti gambar (matriks piksel), sinyal audio, atau fitur-fitur numerik hampir selalu direpresentasikan sebagai NumPy array."
      ]
    },
    {
      "cell_type": "code",
      "execution_count": 3,
      "id": "6290131d",
      "metadata": {
        "id": "6290131d"
      },
      "outputs": [],
      "source": [
        "import numpy as np"
      ]
    },
    {
      "cell_type": "markdown",
      "id": "4fc7c7b4",
      "metadata": {
        "id": "4fc7c7b4"
      },
      "source": [
        "# 🔧 OPERASI FUNDAMENTAL NUMPY\n",
        "\n",
        "# 1. ARRAY CREATION & TYPES"
      ]
    },
    {
      "cell_type": "code",
      "execution_count": 4,
      "id": "30646851",
      "metadata": {
        "id": "30646851",
        "outputId": "af686e2a-594f-4b6e-f44f-dd5461214154",
        "colab": {
          "base_uri": "https://localhost:8080/"
        }
      },
      "outputs": [
        {
          "output_type": "stream",
          "name": "stdout",
          "text": [
            "=== ARRAY CREATION ===\n",
            "1D array shape: (5,)\n",
            "2D array shape: (2, 3)\n",
            "3D array shape: (2, 3, 4)\n"
          ]
        }
      ],
      "source": [
        "print(\"=== ARRAY CREATION ===\")\n",
        "arr1d = np.array([1, 2, 3, 4, 5])                    # 1D array\n",
        "arr2d = np.array([[1, 2, 3], [4, 5, 6]])            # 2D array\n",
        "arr3d = np.random.rand(2, 3, 4)                     # 3D random array\n",
        "\n",
        "print(\"1D array shape:\", arr1d.shape)\n",
        "print(\"2D array shape:\", arr2d.shape)\n",
        "print(\"3D array shape:\", arr3d.shape)"
      ]
    },
    {
      "cell_type": "markdown",
      "id": "b0e2f682",
      "metadata": {
        "id": "b0e2f682"
      },
      "source": [
        "# 2. DATA TYPES"
      ]
    },
    {
      "cell_type": "code",
      "execution_count": 5,
      "id": "7efe2214",
      "metadata": {
        "id": "7efe2214",
        "outputId": "d21b2add-4d76-463d-94ff-6054e43c6d7c",
        "colab": {
          "base_uri": "https://localhost:8080/"
        }
      },
      "outputs": [
        {
          "output_type": "stream",
          "name": "stdout",
          "text": [
            "Data types:\n",
            "arr_int dtype: int32\n",
            "arr_float dtype: float64\n"
          ]
        }
      ],
      "source": [
        "arr_int = np.array([1, 2, 3], dtype=np.int32)\n",
        "arr_float = np.array([1.0, 2.0, 3.0], dtype=np.float64)\n",
        "arr_bool = np.array([True, False, True])\n",
        "\n",
        "print(\"Data types:\")\n",
        "print(\"arr_int dtype:\", arr_int.dtype)\n",
        "print(\"arr_float dtype:\", arr_float.dtype)"
      ]
    },
    {
      "cell_type": "markdown",
      "id": "b81b12e6",
      "metadata": {
        "id": "b81b12e6"
      },
      "source": [
        "# 3. ACCESS & SLICING"
      ]
    },
    {
      "cell_type": "code",
      "execution_count": 6,
      "id": "60d386db",
      "metadata": {
        "id": "60d386db",
        "outputId": "634a23c2-ecc6-4ac0-f413-6e526ef402bf",
        "colab": {
          "base_uri": "https://localhost:8080/"
        }
      },
      "outputs": [
        {
          "output_type": "stream",
          "name": "stdout",
          "text": [
            "\n",
            "=== ACCESS & SLICING ===\n",
            "Element [1,2]: 7\n",
            "Row 1: [5 6 7 8]\n",
            "Column 2: [ 3  7 11]\n",
            "Submatrix 2x2:\n",
            " [[2 3]\n",
            " [6 7]]\n",
            "Every other row:\n",
            " [[ 1  2  3  4]\n",
            " [ 9 10 11 12]]\n"
          ]
        }
      ],
      "source": [
        "matrix = np.array([[1, 2, 3, 4],\n",
        "                   [5, 6, 7, 8],\n",
        "                   [9, 10, 11, 12]])\n",
        "\n",
        "print(\"\\n=== ACCESS & SLICING ===\")\n",
        "print(\"Element [1,2]:\", matrix[1, 2])                # Single element\n",
        "print(\"Row 1:\", matrix[1, :])                        # Entire row\n",
        "print(\"Column 2:\", matrix[:, 2])                     # Entire column\n",
        "print(\"Submatrix 2x2:\\n\", matrix[0:2, 1:3])          # Submatrix\n",
        "print(\"Every other row:\\n\", matrix[::2, :])          # Step slicing"
      ]
    },
    {
      "cell_type": "markdown",
      "id": "6270202a",
      "metadata": {
        "id": "6270202a"
      },
      "source": [
        "# 4. RESHAPING"
      ]
    },
    {
      "cell_type": "code",
      "execution_count": 7,
      "id": "4754402a",
      "metadata": {
        "id": "4754402a",
        "outputId": "8b0c36c0-aab9-4846-a4e1-8acc7a44b3ba",
        "colab": {
          "base_uri": "https://localhost:8080/"
        }
      },
      "outputs": [
        {
          "output_type": "stream",
          "name": "stdout",
          "text": [
            "\n",
            "=== RESHAPING ===\n",
            "Original shape: (12,)\n",
            "Reshaped 3x4:\n",
            " [[ 0  1  2  3]\n",
            " [ 4  5  6  7]\n",
            " [ 8  9 10 11]]\n",
            "Transposed 4x3:\n",
            " [[ 0  4  8]\n",
            " [ 1  5  9]\n",
            " [ 2  6 10]\n",
            " [ 3  7 11]]\n",
            "Flattened: [ 0  1  2  3  4  5  6  7  8  9 10 11]\n"
          ]
        }
      ],
      "source": [
        "print(\"\\n=== RESHAPING ===\")\n",
        "arr = np.arange(12)                                  # 0-11\n",
        "print(\"Original shape:\", arr.shape)\n",
        "reshaped = arr.reshape(3, 4)                        # Reshape to 3x4\n",
        "flattened = reshaped.flatten()                      # Back to 1D\n",
        "transposed = reshaped.T                             # Transpose\n",
        "\n",
        "print(\"Reshaped 3x4:\\n\", reshaped)\n",
        "print(\"Transposed 4x3:\\n\", transposed)\n",
        "print(\"Flattened:\", flattened)"
      ]
    },
    {
      "cell_type": "markdown",
      "id": "68a91f34",
      "metadata": {
        "id": "68a91f34"
      },
      "source": [
        "# 5. MATHEMATICAL OPERATIONS"
      ]
    },
    {
      "cell_type": "code",
      "execution_count": 8,
      "id": "b5d8e2a0",
      "metadata": {
        "id": "b5d8e2a0",
        "outputId": "f0a230dc-586a-4f04-8f62-fa93cf5bd0b8",
        "colab": {
          "base_uri": "https://localhost:8080/"
        }
      },
      "outputs": [
        {
          "output_type": "stream",
          "name": "stdout",
          "text": [
            "\n",
            "=== MATHEMATICAL OPERATIONS ===\n",
            "a + b = [5 7 9]\n",
            "a * b = [ 4 10 18]\n",
            "a ** 2 = [1 4 9]\n",
            "np.dot(a, b) = 32\n"
          ]
        }
      ],
      "source": [
        "print(\"\\n=== MATHEMATICAL OPERATIONS ===\")\n",
        "a = np.array([1, 2, 3])\n",
        "b = np.array([4, 5, 6])\n",
        "\n",
        "print(\"a + b =\", a + b)                             # Element-wise add\n",
        "print(\"a * b =\", a * b)                             # Element-wise multiply\n",
        "print(\"a ** 2 =\", a ** 2)                           # Power\n",
        "print(\"np.dot(a, b) =\", np.dot(a, b))               # Dot product"
      ]
    },
    {
      "cell_type": "markdown",
      "id": "1361c21b",
      "metadata": {
        "id": "1361c21b"
      },
      "source": [
        "# 6. AGGREGATION"
      ]
    },
    {
      "cell_type": "code",
      "execution_count": 9,
      "id": "c4309086",
      "metadata": {
        "id": "c4309086",
        "outputId": "5b28827d-9d26-4c2e-fb23-2fd6400b0758",
        "colab": {
          "base_uri": "https://localhost:8080/"
        }
      },
      "outputs": [
        {
          "output_type": "stream",
          "name": "stdout",
          "text": [
            "\n",
            "=== AGGREGATION ===\n",
            "Data:\n",
            " [[0.11089082 0.4393365  0.2017192  0.8957636 ]\n",
            " [0.47537022 0.56327557 0.69551609 0.13933145]\n",
            " [0.60441738 0.53984109 0.20306122 0.94285357]\n",
            " [0.59886547 0.69478493 0.88046784 0.62435405]\n",
            " [0.29563369 0.10549426 0.45653457 0.21844044]]\n",
            "Sum all: 9.685951962594277\n",
            "Mean all: 0.48429759812971385\n",
            "Std all: 0.25999582747954114\n",
            "Sum columns: [2.08517758 2.34273236 2.43729892 2.82074311]\n",
            "Mean rows: [0.41192753 0.46837333 0.57254332 0.69961807 0.26902574]\n"
          ]
        }
      ],
      "source": [
        "print(\"\\n=== AGGREGATION ===\")\n",
        "data = np.random.rand(5, 4)                         # 5x4 random data\n",
        "print(\"Data:\\n\", data)\n",
        "print(\"Sum all:\", np.sum(data))\n",
        "print(\"Mean all:\", np.mean(data))\n",
        "print(\"Std all:\", np.std(data))\n",
        "print(\"Sum columns:\", np.sum(data, axis=0))         # Along columns\n",
        "print(\"Mean rows:\", np.mean(data, axis=1))          # Along rows"
      ]
    },
    {
      "cell_type": "markdown",
      "id": "6e1e7f85",
      "metadata": {
        "id": "6e1e7f85"
      },
      "source": [
        "# 7. BROADCASTING"
      ]
    },
    {
      "cell_type": "code",
      "execution_count": 10,
      "id": "dbee1465",
      "metadata": {
        "id": "dbee1465",
        "outputId": "b4291265-e7ad-4174-b4d8-97ef667737d3",
        "colab": {
          "base_uri": "https://localhost:8080/"
        }
      },
      "outputs": [
        {
          "output_type": "stream",
          "name": "stdout",
          "text": [
            "\n",
            "=== BROADCASTING ===\n",
            "Matrix + Vector:\n",
            " [[11 22 33]\n",
            " [14 25 36]]\n"
          ]
        }
      ],
      "source": [
        "print(\"\\n=== BROADCASTING ===\")\n",
        "matrix = np.array([[1, 2, 3], [4, 5, 6]])\n",
        "vector = np.array([10, 20, 30])\n",
        "\n",
        "result = matrix + vector                            # Broadcasting\n",
        "print(\"Matrix + Vector:\\n\", result)"
      ]
    },
    {
      "cell_type": "markdown",
      "id": "1695d8bb",
      "metadata": {
        "id": "1695d8bb"
      },
      "source": [
        "# 8. RANDOM OPERATIONS"
      ]
    },
    {
      "cell_type": "code",
      "execution_count": 11,
      "id": "f09e1c8a",
      "metadata": {
        "id": "f09e1c8a",
        "outputId": "05aaa1c7-0533-4f1e-c120-a8ab4692c17f",
        "colab": {
          "base_uri": "https://localhost:8080/"
        }
      },
      "outputs": [
        {
          "output_type": "stream",
          "name": "stdout",
          "text": [
            "\n",
            "=== RANDOM OPERATIONS ===\n",
            "Uniform random:\n",
            " [[4.16509948e-01 8.83280259e-01 3.24345021e-01]\n",
            " [1.22087955e-01 3.56297838e-01 9.06828442e-01]\n",
            " [2.72132249e-01 6.47690121e-01 5.20376995e-04]]\n",
            "Normal random:\n",
            " [[-1.34938997 -1.01907279  0.12701224]\n",
            " [-1.24944372  1.94511561 -0.15333646]\n",
            " [-0.90698723 -0.81735416 -0.48312268]]\n",
            "Random integers:\n",
            " [[87 51 61]\n",
            " [57 51 11]\n",
            " [38  1  2]]\n"
          ]
        }
      ],
      "source": [
        "print(\"\\n=== RANDOM OPERATIONS ===\")\n",
        "random_arr = np.random.rand(3, 3)                   # Uniform [0,1)\n",
        "normal_arr = np.random.randn(3, 3)                  # Normal distribution\n",
        "integers = np.random.randint(0, 100, (3, 3))        # Random integers\n",
        "\n",
        "print(\"Uniform random:\\n\", random_arr)\n",
        "print(\"Normal random:\\n\", normal_arr)\n",
        "print(\"Random integers:\\n\", integers)"
      ]
    },
    {
      "cell_type": "markdown",
      "id": "841e508d",
      "metadata": {
        "id": "841e508d"
      },
      "source": [
        "# 9. SPLITTING & JOINING"
      ]
    },
    {
      "cell_type": "code",
      "execution_count": 12,
      "id": "8f070add",
      "metadata": {
        "id": "8f070add",
        "outputId": "5ef4f99f-0e42-429a-8e58-14e74fdca9a7",
        "colab": {
          "base_uri": "https://localhost:8080/"
        }
      },
      "outputs": [
        {
          "output_type": "stream",
          "name": "stdout",
          "text": [
            "\n",
            "=== SPLITTING & JOINING ===\n",
            "Original:\n",
            " [[ 0  1  2  3]\n",
            " [ 4  5  6  7]\n",
            " [ 8  9 10 11]]\n",
            "After split:\n",
            "Part 0:\n",
            "[[0 1 2 3]]\n",
            "Part 1:\n",
            "[[4 5 6 7]]\n",
            "Part 2:\n",
            "[[ 8  9 10 11]]\n",
            "After concatenation:\n",
            " [[1 2]\n",
            " [3 4]\n",
            " [5 6]]\n"
          ]
        }
      ],
      "source": [
        "print(\"\\n=== SPLITTING & JOINING ===\")\n",
        "arr = np.arange(12).reshape(3, 4)\n",
        "sub_arrays = np.split(arr, 3, axis=0)               # Split along rows\n",
        "print(\"Original:\\n\", arr)\n",
        "print(\"After split:\")\n",
        "for i, sub in enumerate(sub_arrays):\n",
        "    print(f\"Part {i}:\\n{sub}\")\n",
        "\n",
        "# Joining arrays\n",
        "arr1 = np.array([[1, 2], [3, 4]])\n",
        "arr2 = np.array([[5, 6]])\n",
        "joined = np.concatenate([arr1, arr2], axis=0)       # Vertical join\n",
        "print(\"After concatenation:\\n\", joined)"
      ]
    },
    {
      "cell_type": "markdown",
      "id": "8d4fc396",
      "metadata": {
        "id": "8d4fc396"
      },
      "source": [
        "# 10. CONDITIONAL OPERATIONS"
      ]
    },
    {
      "cell_type": "code",
      "execution_count": 13,
      "id": "4f168da2",
      "metadata": {
        "id": "4f168da2",
        "outputId": "3252ad6c-b3f7-40d9-8e34-5d88e29d30bb",
        "colab": {
          "base_uri": "https://localhost:8080/"
        }
      },
      "outputs": [
        {
          "output_type": "stream",
          "name": "stdout",
          "text": [
            "\n",
            "=== CONDITIONAL OPERATIONS ===\n",
            "Data > 30: [45 50 65]\n",
            "Where > 30 else 0: [ 0  0  0 45 50 65]\n"
          ]
        }
      ],
      "source": [
        "print(\"\\n=== CONDITIONAL OPERATIONS ===\")\n",
        "data = np.array([10, 25, 30, 45, 50, 65])\n",
        "mask = data > 30                                    # Boolean mask\n",
        "filtered = data[mask]                               # Filter with mask\n",
        "print(\"Data > 30:\", filtered)\n",
        "\n",
        "# Where operation\n",
        "result = np.where(data > 30, data, 0)               # Replace conditionally\n",
        "print(\"Where > 30 else 0:\", result)"
      ]
    },
    {
      "cell_type": "markdown",
      "id": "be6c38bd",
      "metadata": {
        "id": "be6c38bd"
      },
      "source": [
        "# 🏋️ LATIHAN 2: OPERASI NUMPY UNTUK MACHINE LEARNING\n",
        "\n",
        "### DATA PREPROCESSING DENGAN NUMPY ###"
      ]
    },
    {
      "cell_type": "code",
      "execution_count": 14,
      "id": "3991fe2e",
      "metadata": {
        "id": "3991fe2e",
        "outputId": "2da4e81c-8bcc-4293-dbb3-2007040437cc",
        "colab": {
          "base_uri": "https://localhost:8080/"
        }
      },
      "outputs": [
        {
          "output_type": "stream",
          "name": "stdout",
          "text": [
            "✅ NumPy operations completed\n",
            "\n",
            "--- Hasil Latihan 2 ---\n",
            "Z-score Normalized Shape: (100, 5)\n",
            "Cleaned Data Shape: (100, 5)\n",
            "One-hot Encoding:\n",
            " [[1 0 0]\n",
            " [0 1 0]\n",
            " [0 0 1]\n",
            " [1 0 0]\n",
            " [0 1 0]\n",
            " [0 0 1]\n",
            " [1 0 0]]\n",
            "Train shape: (80, 5) Test shape: (20, 5)\n"
          ]
        }
      ],
      "source": [
        "\n",
        "import numpy as np\n",
        "\n",
        "'''TODO: Implementasi Preprocessing Pipeline'''\n",
        "# Dataset simulasi: 100 samples, 5 features\n",
        "np.random.seed(42)\n",
        "X = np.random.randn(100, 5) * 10 + 5  # Mean=5, Std=10\n",
        "\n",
        "# TODO 1: Normalisasi Z-score: (x - mean) / std\n",
        "def z_score_normalization(data):\n",
        "    mean = np.mean(data, axis=0)\n",
        "    std = np.std(data, axis=0)\n",
        "    # Cegah pembagian nol\n",
        "    std[std == 0] = 1\n",
        "    return (data - mean) / std\n",
        "\n",
        "X_normalized = z_score_normalization(X)\n",
        "\n",
        "# TODO 2: Handle outliers - replace values beyond 3 std with boundaries\n",
        "def handle_outliers(data, std_threshold=3):\n",
        "    mean = np.mean(data, axis=0)\n",
        "    std = np.std(data, axis=0)\n",
        "    lower = mean - std_threshold * std\n",
        "    upper = mean + std_threshold * std\n",
        "    return np.clip(data, lower, upper)\n",
        "\n",
        "X_cleaned = handle_outliers(X_normalized)\n",
        "\n",
        "# TODO 3: One-hot encoding untuk label kategorikal\n",
        "def one_hot_encoding(labels):\n",
        "    num_classes = np.max(labels) + 1\n",
        "    one_hot = np.zeros((labels.size, num_classes), dtype=int)\n",
        "    one_hot[np.arange(labels.size), labels] = 1\n",
        "    return one_hot\n",
        "\n",
        "labels = np.array([0, 1, 2, 0, 1, 2, 0])\n",
        "one_hot_labels = one_hot_encoding(labels)\n",
        "\n",
        "# TODO 4: Train-test split manual\n",
        "def train_test_split_numpy(X, y, test_size=0.2, seed=42):\n",
        "    np.random.seed(seed)\n",
        "    n_samples = X.shape[0]\n",
        "    indices = np.random.permutation(n_samples)\n",
        "    test_size = int(n_samples * test_size)\n",
        "\n",
        "    test_idx = indices[:test_size]\n",
        "    train_idx = indices[test_size:]\n",
        "\n",
        "    X_train, X_test = X[train_idx], X[test_idx]\n",
        "    y_train, y_test = y[train_idx], y[test_idx]\n",
        "    return X_train, X_test, y_train, y_test\n",
        "\n",
        "X_train, X_test, y_train, y_test = train_test_split_numpy(X, np.random.randint(0, 3, 100))\n",
        "\n",
        "# Validasi\n",
        "assert X_normalized.shape == X.shape, \"Shape should remain same\"\n",
        "assert np.allclose(X_normalized.mean(), 0, atol=1e-10), \"Mean should be ~0 after z-score\"\n",
        "assert np.allclose(X_normalized.std(), 1, atol=1e-10), \"Std should be ~1 after z-score\"\n",
        "print(\"✅ NumPy operations completed\")\n",
        "\n",
        "# Cek hasil ringkasan\n",
        "print(\"\\n--- Hasil Latihan 2 ---\")\n",
        "print(\"Z-score Normalized Shape:\", X_normalized.shape)\n",
        "print(\"Cleaned Data Shape:\", X_cleaned.shape)\n",
        "print(\"One-hot Encoding:\\n\", one_hot_labels)\n",
        "print(\"Train shape:\", X_train.shape, \"Test shape:\", X_test.shape)\n"
      ]
    }
  ],
  "metadata": {
    "kernelspec": {
      "display_name": "base",
      "language": "python",
      "name": "python3"
    },
    "language_info": {
      "codemirror_mode": {
        "name": "ipython",
        "version": 3
      },
      "file_extension": ".py",
      "mimetype": "text/x-python",
      "name": "python",
      "nbconvert_exporter": "python",
      "pygments_lexer": "ipython3",
      "version": "3.11.5"
    },
    "colab": {
      "provenance": []
    }
  },
  "nbformat": 4,
  "nbformat_minor": 5
}