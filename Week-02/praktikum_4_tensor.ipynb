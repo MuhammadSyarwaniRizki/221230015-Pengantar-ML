{
  "cells": [
    {
      "cell_type": "markdown",
      "id": "3f9a9170",
      "metadata": {
        "id": "3f9a9170"
      },
      "source": [
        "# Praktikum 4: Pengenalan Tensor pada PyTorch\n",
        "\n",
        "<a href=\"https://colab.research.google.com/github/pakizhan-ump/ml-umpontianak/blob/main/Modules/Week-02/Praktikum-02/praktikum_4_tensor.ipynb\" target=\"_parent\"><img src=\"https://colab.research.google.com/assets/colab-badge.svg\" alt=\"Open In Colab\"/></a>\n",
        "\n",
        "## 🎯 Tujuan Praktikum\n",
        "Mahasiswa memahami struktur data dasar dalam library **PyTorch**, yaitu **Tensor**, dan mampu melakukan operasi-operasi fundamental yang menjadi dasar dari komputasi deep learning.\n",
        "\n",
        "## 📖 Dasar Teori\n",
        "**PyTorch** adalah salah satu *framework* deep learning terpopuler. Unit data fundamental di PyTorch adalah **Tensor**. Secara konseptual, sebuah tensor adalah generalisasi dari vektor dan matriks ke dimensi yang lebih tinggi.\n",
        "* Skalar = Tensor 0D\n",
        "* Vektor = Tensor 1D\n",
        "* Matriks = Tensor 2D\n",
        "\n",
        "Tensor sangat mirip dengan NumPy ndarray, namun memiliki dua keunggulan krusial untuk deep learning:\n",
        "1.  **Akselerasi GPU:** Tensor dapat dengan mudah dipindahkan ke *Graphics Processing Unit* (GPU) untuk mendapatkan percepatan komputasi yang masif. Ini sangat penting untuk melatih model deep learning yang kompleks pada data besar.\n",
        "2.  **Dukungan Autograd:** PyTorch dapat secara otomatis melacak histori operasi pada tensor dan menghitung gradien (turunan) dari operasi tersebut. Fitur ini, yang disebut *automatic differentiation*, adalah inti dari algoritma *backpropagation* yang digunakan untuk melatih hampir semua jaringan saraf tiruan.\n"
      ]
    },
    {
      "cell_type": "markdown",
      "id": "22e6d78a",
      "metadata": {
        "id": "22e6d78a"
      },
      "source": [
        "# 🔧 OPERASI FUNDAMENTAL PYTORCH"
      ]
    },
    {
      "cell_type": "code",
      "execution_count": 1,
      "id": "252f9628",
      "metadata": {
        "id": "252f9628"
      },
      "outputs": [],
      "source": [
        "#!pip install torch torchvision torchaudio"
      ]
    },
    {
      "cell_type": "code",
      "execution_count": 2,
      "id": "450749ec",
      "metadata": {
        "id": "450749ec"
      },
      "outputs": [],
      "source": [
        "import torch\n",
        "import numpy as np"
      ]
    },
    {
      "cell_type": "code",
      "execution_count": 3,
      "id": "c16a5029",
      "metadata": {
        "id": "c16a5029",
        "outputId": "fa6410f7-8abc-4264-db13-eef6a761974e",
        "colab": {
          "base_uri": "https://localhost:8080/"
        }
      },
      "outputs": [
        {
          "output_type": "stream",
          "name": "stdout",
          "text": [
            "2.8.0+cu126\n",
            "CUDA available: False\n"
          ]
        }
      ],
      "source": [
        "import torch\n",
        "print(torch.__version__)\n",
        "print(\"CUDA available:\", torch.cuda.is_available())"
      ]
    },
    {
      "cell_type": "markdown",
      "id": "59d9085c",
      "metadata": {
        "id": "59d9085c"
      },
      "source": [
        "# 1. TENSOR CREATION & TYPES"
      ]
    },
    {
      "cell_type": "code",
      "execution_count": 4,
      "id": "23f7e58b",
      "metadata": {
        "id": "23f7e58b",
        "outputId": "bdaa1a0d-1e76-4e79-fff0-e908a40ad02e",
        "colab": {
          "base_uri": "https://localhost:8080/"
        }
      },
      "outputs": [
        {
          "output_type": "stream",
          "name": "stdout",
          "text": [
            "=== TENSOR CREATION ===\n",
            "Zeros tensor:\n",
            " tensor([[0., 0., 0.],\n",
            "        [0., 0., 0.]])\n",
            "Random tensor:\n",
            " tensor([[0.0123, 0.1867, 0.2050],\n",
            "        [0.4529, 0.8001, 0.8422]])\n",
            "Arange tensor: tensor([0, 2, 4, 6, 8])\n"
          ]
        }
      ],
      "source": [
        "print(\"=== TENSOR CREATION ===\")\n",
        "# Various creation methods\n",
        "tensor_zeros = torch.zeros(2, 3)                    # Zeros tensor\n",
        "tensor_ones = torch.ones(2, 3)                      # Ones tensor\n",
        "tensor_rand = torch.rand(2, 3)                      # Random [0,1)\n",
        "tensor_randn = torch.randn(2, 3)                    # Normal distribution\n",
        "tensor_arange = torch.arange(0, 10, 2)              # Like range()\n",
        "\n",
        "print(\"Zeros tensor:\\n\", tensor_zeros)\n",
        "print(\"Random tensor:\\n\", tensor_rand)\n",
        "print(\"Arange tensor:\", tensor_arange)"
      ]
    },
    {
      "cell_type": "markdown",
      "id": "323fa6d4",
      "metadata": {
        "id": "323fa6d4"
      },
      "source": [
        "# 2. DATA TYPES & SHAPE"
      ]
    },
    {
      "cell_type": "code",
      "execution_count": 5,
      "id": "c58aa0d2",
      "metadata": {
        "id": "c58aa0d2",
        "outputId": "a6631652-9660-411c-990a-8541b619fa4a",
        "colab": {
          "base_uri": "https://localhost:8080/"
        }
      },
      "outputs": [
        {
          "output_type": "stream",
          "name": "stdout",
          "text": [
            "\n",
            "=== DATA TYPES & SHAPE ===\n",
            "Integer tensor dtype: torch.int32\n",
            "Float tensor dtype: torch.float32\n",
            "Tensor shape: torch.Size([3])\n",
            "Tensor size: torch.Size([3])\n",
            "Number of elements: 3\n"
          ]
        }
      ],
      "source": [
        "print(\"\\n=== DATA TYPES & SHAPE ===\")\n",
        "tensor_int = torch.tensor([1, 2, 3], dtype=torch.int32)\n",
        "tensor_float = torch.tensor([1.0, 2.0, 3.0], dtype=torch.float32)\n",
        "\n",
        "print(\"Integer tensor dtype:\", tensor_int.dtype)\n",
        "print(\"Float tensor dtype:\", tensor_float.dtype)\n",
        "print(\"Tensor shape:\", tensor_float.shape)\n",
        "print(\"Tensor size:\", tensor_float.size())\n",
        "print(\"Number of elements:\", tensor_float.numel())"
      ]
    },
    {
      "cell_type": "markdown",
      "id": "e54d872a",
      "metadata": {
        "id": "e54d872a"
      },
      "source": [
        "# 3. ACCESS & SLICING"
      ]
    },
    {
      "cell_type": "code",
      "execution_count": 6,
      "id": "38400ba4",
      "metadata": {
        "id": "38400ba4",
        "outputId": "e430cb2d-de25-4675-f832-2a34bba4febe",
        "colab": {
          "base_uri": "https://localhost:8080/"
        }
      },
      "outputs": [
        {
          "output_type": "stream",
          "name": "stdout",
          "text": [
            "\n",
            "=== ACCESS & SLICING ===\n",
            "Original tensor:\n",
            " tensor([[1, 2, 3],\n",
            "        [4, 5, 6],\n",
            "        [7, 8, 9]])\n",
            "Element [1,2]: tensor(6)\n",
            "First row: tensor([1, 2, 3])\n",
            "Last column: tensor([3, 6, 9])\n",
            "Submatrix:\n",
            " tensor([[2, 3],\n",
            "        [5, 6]])\n"
          ]
        }
      ],
      "source": [
        "print(\"\\n=== ACCESS & SLICING ===\")\n",
        "tensor_2d = torch.tensor([[1, 2, 3], [4, 5, 6], [7, 8, 9]])\n",
        "print(\"Original tensor:\\n\", tensor_2d)\n",
        "print(\"Element [1,2]:\", tensor_2d[1, 2])\n",
        "print(\"First row:\", tensor_2d[0, :])\n",
        "print(\"Last column:\", tensor_2d[:, -1])\n",
        "print(\"Submatrix:\\n\", tensor_2d[0:2, 1:3])"
      ]
    },
    {
      "cell_type": "markdown",
      "id": "ed427bea",
      "metadata": {
        "id": "ed427bea"
      },
      "source": [
        "# 4. RESHAPING"
      ]
    },
    {
      "cell_type": "code",
      "execution_count": 7,
      "id": "35df00a4",
      "metadata": {
        "id": "35df00a4",
        "outputId": "9125da08-0fdf-448e-d24f-e6d284584957",
        "colab": {
          "base_uri": "https://localhost:8080/"
        }
      },
      "outputs": [
        {
          "output_type": "stream",
          "name": "stdout",
          "text": [
            "\n",
            "=== RESHAPING ===\n",
            "Original shape: torch.Size([12])\n",
            "Reshaped 3x4:\n",
            " tensor([[ 0,  1,  2,  3],\n",
            "        [ 4,  5,  6,  7],\n",
            "        [ 8,  9, 10, 11]])\n",
            "Transposed 4x3:\n",
            " tensor([[ 0,  4,  8],\n",
            "        [ 1,  5,  9],\n",
            "        [ 2,  6, 10],\n",
            "        [ 3,  7, 11]])\n",
            "Flattened: tensor([ 0,  1,  2,  3,  4,  5,  6,  7,  8,  9, 10, 11])\n"
          ]
        }
      ],
      "source": [
        "print(\"\\n=== RESHAPING ===\")\n",
        "tensor_1d = torch.arange(12)\n",
        "print(\"Original shape:\", tensor_1d.shape)\n",
        "\n",
        "reshaped = tensor_1d.reshape(3, 4)                  # Reshape\n",
        "viewed = tensor_1d.view(3, 4)                       # View (shares memory)\n",
        "transposed = reshaped.T                             # Transpose\n",
        "flattened = reshaped.flatten()                      # Flatten\n",
        "\n",
        "print(\"Reshaped 3x4:\\n\", reshaped)\n",
        "print(\"Transposed 4x3:\\n\", transposed)\n",
        "print(\"Flattened:\", flattened)"
      ]
    },
    {
      "cell_type": "markdown",
      "id": "c7f24385",
      "metadata": {
        "id": "c7f24385"
      },
      "source": [
        "# 5. MATHEMATICAL OPERATIONS"
      ]
    },
    {
      "cell_type": "code",
      "execution_count": 8,
      "id": "8b41deab",
      "metadata": {
        "id": "8b41deab",
        "outputId": "5749ef67-dc0a-419e-bcd5-ae7d5f0ee6be",
        "colab": {
          "base_uri": "https://localhost:8080/"
        }
      },
      "outputs": [
        {
          "output_type": "stream",
          "name": "stdout",
          "text": [
            "\n",
            "=== MATHEMATICAL OPERATIONS ===\n",
            "a + b = tensor([5., 7., 9.])\n",
            "a * b = tensor([ 4., 10., 18.])\n",
            "a ** 2 = tensor([1., 4., 9.])\n",
            "torch.matmul: tensor(32.)\n",
            "torch.sum(a) = tensor(6.)\n"
          ]
        }
      ],
      "source": [
        "print(\"\\n=== MATHEMATICAL OPERATIONS ===\")\n",
        "a = torch.tensor([1.0, 2.0, 3.0])\n",
        "b = torch.tensor([4.0, 5.0, 6.0])\n",
        "\n",
        "print(\"a + b =\", a + b)                             # Element-wise\n",
        "print(\"a * b =\", a * b)\n",
        "print(\"a ** 2 =\", a ** 2)\n",
        "print(\"torch.matmul:\", torch.matmul(a, b))          # Dot product\n",
        "print(\"torch.sum(a) =\", torch.sum(a))               # Reduction"
      ]
    },
    {
      "cell_type": "markdown",
      "id": "24d91679",
      "metadata": {
        "id": "24d91679"
      },
      "source": [
        "# 6. AGGREGATION"
      ]
    },
    {
      "cell_type": "code",
      "execution_count": 9,
      "id": "fbed82c8",
      "metadata": {
        "id": "fbed82c8",
        "outputId": "247825f3-fced-475f-e162-3d9dd1b63ae3",
        "colab": {
          "base_uri": "https://localhost:8080/"
        }
      },
      "outputs": [
        {
          "output_type": "stream",
          "name": "stdout",
          "text": [
            "\n",
            "=== AGGREGATION ===\n",
            "Data tensor:\n",
            " tensor([[-0.3436,  0.1283,  0.3496,  0.6715, -0.1325],\n",
            "        [-0.3005,  0.0746, -0.1125, -0.3714,  0.1555],\n",
            "        [ 0.1977,  1.1117,  1.1186, -0.2858, -0.4382],\n",
            "        [-0.2204,  1.1046, -1.7139, -0.7608,  0.1868]])\n",
            "Global sum: tensor(0.4193)\n",
            "Mean along dim 0: tensor([-0.1667,  0.6048, -0.0895, -0.1866, -0.0571])\n",
            "Max along dim 1: torch.return_types.max(\n",
            "values=tensor([0.6715, 0.1555, 1.1186, 1.1046]),\n",
            "indices=tensor([3, 4, 2, 1]))\n"
          ]
        }
      ],
      "source": [
        "print(\"\\n=== AGGREGATION ===\")\n",
        "data = torch.randn(4, 5)                            # Random data\n",
        "print(\"Data tensor:\\n\", data)\n",
        "print(\"Global sum:\", torch.sum(data))\n",
        "print(\"Mean along dim 0:\", torch.mean(data, dim=0)) # Column means\n",
        "print(\"Max along dim 1:\", torch.max(data, dim=1))   # Row maximums"
      ]
    },
    {
      "cell_type": "markdown",
      "id": "0aea4afc",
      "metadata": {
        "id": "0aea4afc"
      },
      "source": [
        "# 7. BROADCASTING"
      ]
    },
    {
      "cell_type": "code",
      "execution_count": 10,
      "id": "0d02b4d7",
      "metadata": {
        "id": "0d02b4d7",
        "outputId": "765184ad-5313-46a3-b857-df2d979f99fa",
        "colab": {
          "base_uri": "https://localhost:8080/"
        }
      },
      "outputs": [
        {
          "output_type": "stream",
          "name": "stdout",
          "text": [
            "\n",
            "=== BROADCASTING ===\n",
            "Matrix:\n",
            " tensor([[1, 2, 3],\n",
            "        [4, 5, 6]])\n",
            "Vector: tensor([10, 20, 30])\n",
            "Broadcast result:\n",
            " tensor([[11, 22, 33],\n",
            "        [14, 25, 36]])\n"
          ]
        }
      ],
      "source": [
        "print(\"\\n=== BROADCASTING ===\")\n",
        "matrix = torch.tensor([[1, 2, 3], [4, 5, 6]])\n",
        "vector = torch.tensor([10, 20, 30])\n",
        "\n",
        "result = matrix + vector                            # Broadcasting\n",
        "print(\"Matrix:\\n\", matrix)\n",
        "print(\"Vector:\", vector)\n",
        "print(\"Broadcast result:\\n\", result)"
      ]
    },
    {
      "cell_type": "markdown",
      "id": "4f36b977",
      "metadata": {
        "id": "4f36b977"
      },
      "source": [
        "# 8. RANDOM OPERATIONS"
      ]
    },
    {
      "cell_type": "code",
      "execution_count": 11,
      "id": "114efba9",
      "metadata": {
        "id": "114efba9",
        "outputId": "add2718a-1e59-4481-e3be-d08b179b3b22",
        "colab": {
          "base_uri": "https://localhost:8080/"
        }
      },
      "outputs": [
        {
          "output_type": "stream",
          "name": "stdout",
          "text": [
            "\n",
            "=== RANDOM OPERATIONS ===\n",
            "Uniform random:\n",
            " tensor([[0.8823, 0.9150, 0.3829],\n",
            "        [0.9593, 0.3904, 0.6009]])\n",
            "Normal random:\n",
            " tensor([[ 1.1561,  0.3965, -2.4661],\n",
            "        [ 0.3623,  0.3765, -0.1808]])\n",
            "Random integers:\n",
            " tensor([[7, 6, 9],\n",
            "        [6, 3, 1]])\n"
          ]
        }
      ],
      "source": [
        "print(\"\\n=== RANDOM OPERATIONS ===\")\n",
        "torch.manual_seed(42)                               # Set seed\n",
        "random_tensor = torch.rand(2, 3)                    # Uniform\n",
        "normal_tensor = torch.randn(2, 3)                   # Normal\n",
        "randint_tensor = torch.randint(0, 10, (2, 3))       # Integers\n",
        "\n",
        "print(\"Uniform random:\\n\", random_tensor)\n",
        "print(\"Normal random:\\n\", normal_tensor)\n",
        "print(\"Random integers:\\n\", randint_tensor)"
      ]
    },
    {
      "cell_type": "code",
      "execution_count": 12,
      "id": "2a8da42b",
      "metadata": {
        "id": "2a8da42b"
      },
      "outputs": [],
      "source": [
        "# 9. CONCATENATION & SPLITTING"
      ]
    },
    {
      "cell_type": "code",
      "execution_count": 13,
      "id": "b5bfc17d",
      "metadata": {
        "id": "b5bfc17d",
        "outputId": "10f13409-ce48-4ef3-fd41-74a538461c2e",
        "colab": {
          "base_uri": "https://localhost:8080/"
        }
      },
      "outputs": [
        {
          "output_type": "stream",
          "name": "stdout",
          "text": [
            "\n",
            "=== CONCATENATION & SPLITTING ===\n",
            "Vertical concat:\n",
            " tensor([[1, 2],\n",
            "        [3, 4],\n",
            "        [5, 6],\n",
            "        [7, 8]])\n",
            "Horizontal concat:\n",
            " tensor([[1, 2, 5, 6],\n",
            "        [3, 4, 7, 8]])\n",
            "After splitting:\n",
            "Chunk 0:\n",
            "tensor([[1, 2],\n",
            "        [3, 4]])\n",
            "Chunk 1:\n",
            "tensor([[5, 6],\n",
            "        [7, 8]])\n"
          ]
        }
      ],
      "source": [
        "print(\"\\n=== CONCATENATION & SPLITTING ===\")\n",
        "t1 = torch.tensor([[1, 2], [3, 4]])\n",
        "t2 = torch.tensor([[5, 6], [7, 8]])\n",
        "\n",
        "# Concatenation\n",
        "cat_vertical = torch.cat([t1, t2], dim=0)           # Vertical\n",
        "cat_horizontal = torch.cat([t1, t2], dim=1)         # Horizontal\n",
        "\n",
        "print(\"Vertical concat:\\n\", cat_vertical)\n",
        "print(\"Horizontal concat:\\n\", cat_horizontal)\n",
        "\n",
        "# Splitting\n",
        "chunks = torch.chunk(cat_vertical, 2, dim=0)        # Split into chunks\n",
        "print(\"After splitting:\")\n",
        "for i, chunk in enumerate(chunks):\n",
        "    print(f\"Chunk {i}:\\n{chunk}\")"
      ]
    },
    {
      "cell_type": "code",
      "execution_count": 14,
      "id": "297dad88",
      "metadata": {
        "id": "297dad88"
      },
      "outputs": [],
      "source": [
        "# 10. GPU OPERATIONS"
      ]
    },
    {
      "cell_type": "code",
      "execution_count": 15,
      "id": "496b3b99",
      "metadata": {
        "id": "496b3b99",
        "outputId": "63a0b075-4733-468d-cf6d-607d1b14dcc3",
        "colab": {
          "base_uri": "https://localhost:8080/"
        }
      },
      "outputs": [
        {
          "output_type": "stream",
          "name": "stdout",
          "text": [
            "\n",
            "=== GPU OPERATIONS ===\n",
            "GPU not available, using CPU\n"
          ]
        }
      ],
      "source": [
        "print(\"\\n=== GPU OPERATIONS ===\")\n",
        "if torch.cuda.is_available():\n",
        "    device = torch.device(\"cuda\")\n",
        "    tensor_gpu = tensor_2d.to(device)               # Move to GPU\n",
        "    print(f\"Tensor on: {tensor_gpu.device}\")\n",
        "\n",
        "    # Operations on GPU\n",
        "    result_gpu = tensor_gpu + 1\n",
        "    print(\"GPU operation result on CPU:\", result_gpu.cpu())\n",
        "else:\n",
        "    print(\"GPU not available, using CPU\")"
      ]
    },
    {
      "cell_type": "code",
      "execution_count": 16,
      "id": "29e1f4b4",
      "metadata": {
        "id": "29e1f4b4"
      },
      "outputs": [],
      "source": [
        "# 🏋️ LATIHAN 4: OPERASI PYTORCH UNTUK DEEP LEARNING\n",
        "\n",
        "### TENSOR OPERATIONS FOR NEURAL NETWORKS ###"
      ]
    },
    {
      "cell_type": "code",
      "execution_count": 17,
      "id": "61ddec89",
      "metadata": {
        "id": "61ddec89",
        "outputId": "8eab2f41-8bd3-4f84-e54c-7d1a19170d7c",
        "colab": {
          "base_uri": "https://localhost:8080/"
        }
      },
      "outputs": [
        {
          "output_type": "stream",
          "name": "stdout",
          "text": [
            "✅ PyTorch basic operations completed successfully!\n",
            "\n",
            "✅ Advanced tensor operations completed successfully!\n",
            "\n",
            "=== Sample Outputs ===\n",
            "Output Linear Layer:\n",
            " tensor([[ 4.7204],\n",
            "        [ 0.1580],\n",
            "        [-0.8167],\n",
            "        [ 1.0195],\n",
            "        [-0.7342]])\n",
            "\n",
            "ReLU Activated:\n",
            " tensor([[4.7204],\n",
            "        [0.1580],\n",
            "        [0.0000],\n",
            "        [1.0195],\n",
            "        [0.0000]])\n",
            "\n",
            "Normalized (Batch Norm):\n",
            " tensor([[ 0.2830, -1.3881, -0.4140,  0.2817, -1.1424, -0.1146, -2.1036, -0.2697,\n",
            "         -0.3358, -0.3478],\n",
            "        [ 0.7533, -1.3050, -0.5308, -0.0726, -0.8952,  0.2394,  0.1243,  0.2772,\n",
            "          1.5515, -0.9907],\n",
            "        [ 1.2881,  0.3675, -1.1199, -0.4124, -1.4114,  1.0758,  0.1385,  2.2555,\n",
            "          1.1560, -0.4032],\n",
            "        [-1.5477, -2.1544, -0.8213, -1.0720,  1.4159, -0.0125,  0.4391,  0.1291,\n",
            "          1.3626, -0.4195],\n",
            "        [-1.3544,  0.3939, -1.1041,  0.6238,  0.8592,  0.5801, -0.3377, -0.8340,\n",
            "          0.1202,  0.5479]])\n",
            "\n",
            "Labels:\n",
            " tensor([2, 1, 2, 1, 1, 1, 1, 0, 1, 2])\n",
            "\n",
            "One-Hot Encoding:\n",
            " tensor([[0., 0., 1.],\n",
            "        [0., 1., 0.],\n",
            "        [0., 0., 1.],\n",
            "        [0., 1., 0.],\n",
            "        [0., 1., 0.],\n",
            "        [0., 1., 0.],\n",
            "        [0., 1., 0.],\n",
            "        [1., 0., 0.],\n",
            "        [0., 1., 0.],\n",
            "        [0., 0., 1.]])\n",
            "\n",
            "Manual Matrix Multiplication:\n",
            " tensor([[19., 22.],\n",
            "        [43., 50.]])\n"
          ]
        }
      ],
      "source": [
        "\n",
        "'''TODO: Implementasi Operasi Dasar Neural Networks'''\n",
        "import torch\n",
        "\n",
        "'''TODO: Implementasi Operasi Dasar Neural Networks'''\n",
        "# Simulasi batch data: 32 samples, 10 features\n",
        "batch_size, n_features = 32, 10\n",
        "X = torch.randn(batch_size, n_features)\n",
        "weights = torch.randn(n_features, 1)\n",
        "bias = torch.randn(1)\n",
        "\n",
        "# TODO 1: Implementasi linear layer manual: y = XW + b\n",
        "def linear_layer(X, W, b):\n",
        "    # Implementasi operasi linear\n",
        "    return torch.matmul(X, W) + b\n",
        "\n",
        "output = linear_layer(X, weights, bias)\n",
        "\n",
        "# TODO 2: Implementasi ReLU activation function\n",
        "def relu_activation(tensor):\n",
        "    # Implementasi ReLU: max(0, x)\n",
        "    return torch.maximum(tensor, torch.tensor(0.0))\n",
        "\n",
        "activated = relu_activation(output)\n",
        "\n",
        "# TODO 3: Batch normalization sederhana\n",
        "def simple_batch_norm(tensor, epsilon=1e-5):\n",
        "    # Normalisasi per feature across batch\n",
        "    mean = tensor.mean(dim=0, keepdim=True)\n",
        "    std = tensor.std(dim=0, keepdim=True)\n",
        "    return (tensor - mean) / (std + epsilon)\n",
        "\n",
        "normalized = simple_batch_norm(X)\n",
        "\n",
        "# TODO 4: One-hot encoding manual\n",
        "def one_hot_pytorch(labels, num_classes):\n",
        "    # Convert labels to one-hot encoding\n",
        "    one_hot = torch.zeros(labels.size(0), num_classes)\n",
        "    one_hot[torch.arange(labels.size(0)), labels] = 1\n",
        "    return one_hot\n",
        "\n",
        "labels = torch.randint(0, 3, (10,))\n",
        "one_hot = one_hot_pytorch(labels, num_classes=3)\n",
        "\n",
        "# Validasi hasil\n",
        "assert output.shape == (batch_size, 1), \"Linear output shape incorrect\"\n",
        "assert torch.all(activated >= 0), \"ReLU should be >= 0\"\n",
        "assert normalized.shape == X.shape, \"Batch norm should preserve shape\"\n",
        "assert one_hot.shape == (10, 3), \"One-hot shape incorrect\"\n",
        "\n",
        "print(\"✅ PyTorch basic operations completed successfully!\\n\")\n",
        "\n",
        "### BONUS: ADVANCED TENSOR OPERATIONS ###\n",
        "\n",
        "'''TODO: Matrix Multiplication dari Prinsip Dasar'''\n",
        "def manual_matrix_multiply(A, B):\n",
        "    \"\"\"\n",
        "    Implementasi perkalian matriks manual tanpa torch.matmul\n",
        "    \"\"\"\n",
        "    # Pastikan dimensi cocok\n",
        "    assert A.shape[1] == B.shape[0], \"Dimensi matriks tidak cocok\"\n",
        "    result = torch.zeros((A.shape[0], B.shape[1]))\n",
        "\n",
        "    # Implementasi perkalian matriks dasar\n",
        "    for i in range(A.shape[0]):\n",
        "        for j in range(B.shape[1]):\n",
        "            result[i, j] = torch.sum(A[i, :] * B[:, j])\n",
        "    return result\n",
        "\n",
        "# Test dengan matriks kecil\n",
        "A = torch.tensor([[1, 2], [3, 4]], dtype=torch.float32)\n",
        "B = torch.tensor([[5, 6], [7, 8]], dtype=torch.float32)\n",
        "\n",
        "manual_result = manual_matrix_multiply(A, B)\n",
        "torch_result = torch.matmul(A, B)\n",
        "\n",
        "# Validasi hasil perkalian\n",
        "assert torch.allclose(manual_result, torch_result), \"Manual multiplication incorrect\"\n",
        "\n",
        "print(\"✅ Advanced tensor operations completed successfully!\\n\")\n",
        "\n",
        "# Cetak beberapa hasil untuk verifikasi\n",
        "print(\"=== Sample Outputs ===\")\n",
        "print(\"Output Linear Layer:\\n\", output[:5])\n",
        "print(\"\\nReLU Activated:\\n\", activated[:5])\n",
        "print(\"\\nNormalized (Batch Norm):\\n\", normalized[:5])\n",
        "print(\"\\nLabels:\\n\", labels)\n",
        "print(\"\\nOne-Hot Encoding:\\n\", one_hot)\n",
        "print(\"\\nManual Matrix Multiplication:\\n\", manual_result)"
      ]
    }
  ],
  "metadata": {
    "kernelspec": {
      "display_name": ".venv",
      "language": "python",
      "name": "python3"
    },
    "language_info": {
      "codemirror_mode": {
        "name": "ipython",
        "version": 3
      },
      "file_extension": ".py",
      "mimetype": "text/x-python",
      "name": "python",
      "nbconvert_exporter": "python",
      "pygments_lexer": "ipython3",
      "version": "3.11.9"
    },
    "colab": {
      "provenance": []
    }
  },
  "nbformat": 4,
  "nbformat_minor": 5
}