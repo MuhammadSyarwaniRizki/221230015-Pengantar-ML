{
  "cells": [
    {
      "cell_type": "markdown",
      "id": "33624715",
      "metadata": {
        "id": "33624715"
      },
      "source": [
        "# Praktikum 3: Manipulasi Data Tabular dengan Pandas\n",
        "\n",
        "<a href=\"https://colab.research.google.com/github/pakizhan-ump/ml-umpontianak/blob/main/Modules/Week-02/Praktikum-02/Praktikum_3_pandas.ipynb\" target=\"_parent\"><img src=\"https://colab.research.google.com/assets/colab-badge.svg\" alt=\"Open In Colab\"/></a>\n",
        "\n",
        "## 🎯 Tujuan Praktikum\n",
        "Mahasiswa mampu menggunakan library **Pandas** untuk memuat, membersihkan, memanipulasi, dan menganalisis data dalam bentuk tabel (DataFrame).\n",
        "\n",
        "## 📖 Dasar Teori\n",
        "**Pandas** adalah library yang dibangun di atas NumPy, dirancang khusus untuk analisis dan manipulasi data terstruktur atau tabular. Dua struktur data utamanya adalah:\n",
        "* **Series:** Sebuah array satu dimensi yang memiliki label (indeks). Ini bisa dianggap sebagai satu kolom dalam sebuah tabel.\n",
        "* **DataFrame:** Struktur data dua dimensi seperti tabel pada spreadsheet atau database SQL. DataFrame terdiri dari baris dan kolom, di mana setiap kolomnya adalah sebuah Pandas Series.\n",
        "\n",
        "Pandas sangat esensial untuk tahap *data cleaning*, *preprocessing*, dan *exploratory data analysis (EDA)* dalam alur kerja machine learning. Ia menyediakan fungsi-fungsi tingkat tinggi untuk membaca file (CSV, Excel), menangani data yang hilang (*missing values*), melakukan pengelompokan (*grouping*), dan seleksi data yang kompleks dengan mudah.\n"
      ]
    },
    {
      "cell_type": "markdown",
      "id": "8e0eba88",
      "metadata": {
        "id": "8e0eba88"
      },
      "source": [
        "# 🔧 OPERASI FUNDAMENTAL PANDAS"
      ]
    },
    {
      "cell_type": "code",
      "execution_count": 49,
      "id": "d5da1e05",
      "metadata": {
        "id": "d5da1e05"
      },
      "outputs": [],
      "source": [
        "import pandas as pd\n",
        "import numpy as np"
      ]
    },
    {
      "cell_type": "markdown",
      "id": "9fd1ba99",
      "metadata": {
        "id": "9fd1ba99"
      },
      "source": [
        "# 1. DATAFRAME CREATION"
      ]
    },
    {
      "cell_type": "code",
      "execution_count": 50,
      "id": "56ca9162",
      "metadata": {
        "id": "56ca9162",
        "outputId": "7a0f1683-e601-4ab9-af09-6ccb5832935a",
        "colab": {
          "base_uri": "https://localhost:8080/"
        }
      },
      "outputs": [
        {
          "output_type": "stream",
          "name": "stdout",
          "text": [
            "=== DATAFRAME CREATION ===\n",
            "DataFrame:\n",
            "       Name  Age  Salary Department\n",
            "0    Alice   25   50000         IT\n",
            "1      Bob   30   60000         HR\n",
            "2  Charlie   35   70000         IT\n",
            "3    David   28   55000    Finance\n"
          ]
        }
      ],
      "source": [
        "print(\"=== DATAFRAME CREATION ===\")\n",
        "# From dictionary\n",
        "data = {\n",
        "    'Name': ['Alice', 'Bob', 'Charlie', 'David'],\n",
        "    'Age': [25, 30, 35, 28],\n",
        "    'Salary': [50000, 60000, 70000, 55000],\n",
        "    'Department': ['IT', 'HR', 'IT', 'Finance']\n",
        "}\n",
        "df = pd.DataFrame(data)\n",
        "print(\"DataFrame:\\n\", df)"
      ]
    },
    {
      "cell_type": "markdown",
      "id": "c1f60d0c",
      "metadata": {
        "id": "c1f60d0c"
      },
      "source": [
        "# 2. ACCESS & INDEXING"
      ]
    },
    {
      "cell_type": "code",
      "execution_count": 51,
      "id": "2945f028",
      "metadata": {
        "id": "2945f028",
        "outputId": "6e9bb50e-2887-4a27-835c-d3330ab34eef",
        "colab": {
          "base_uri": "https://localhost:8080/"
        }
      },
      "outputs": [
        {
          "output_type": "stream",
          "name": "stdout",
          "text": [
            "\n",
            "=== ACCESS & INDEXING ===\n",
            "Column 'Name': ['Alice', 'Bob', 'Charlie', 'David']\n",
            "First row:\n",
            " Name          Alice\n",
            "Age              25\n",
            "Salary        50000\n",
            "Department       IT\n",
            "Name: 0, dtype: object\n",
            "Rows 1-2:\n",
            "       Name  Age  Salary Department\n",
            "1      Bob   30   60000         HR\n",
            "2  Charlie   35   70000         IT\n",
            "Filter Age > 28:\n",
            "       Name  Age  Salary Department\n",
            "1      Bob   30   60000         HR\n",
            "2  Charlie   35   70000         IT\n"
          ]
        }
      ],
      "source": [
        "print(\"\\n=== ACCESS & INDEXING ===\")\n",
        "print(\"Column 'Name':\", df['Name'].tolist())\n",
        "print(\"First row:\\n\", df.iloc[0])                    # By integer position\n",
        "print(\"Rows 1-2:\\n\", df.iloc[1:3])\n",
        "print(\"Filter Age > 28:\\n\", df[df['Age'] > 28])"
      ]
    },
    {
      "cell_type": "markdown",
      "id": "93e5c93d",
      "metadata": {
        "id": "93e5c93d"
      },
      "source": [
        "# 3. ADD/REMOVE COLUMNS"
      ]
    },
    {
      "cell_type": "code",
      "execution_count": 52,
      "id": "8694ccd8",
      "metadata": {
        "id": "8694ccd8",
        "outputId": "1cd3cefe-21c4-415e-a4ba-2f19492dd8ce",
        "colab": {
          "base_uri": "https://localhost:8080/"
        }
      },
      "outputs": [
        {
          "output_type": "stream",
          "name": "stdout",
          "text": [
            "\n",
            "=== ADD/REMOVE COLUMNS ===\n",
            "After modifications:\n",
            "       Name  Age  Salary Department  Senior\n",
            "0    Alice   25   50000         IT   False\n",
            "1      Bob   30   60000         HR   False\n",
            "2  Charlie   35   70000         IT    True\n",
            "3    David   28   55000    Finance   False\n"
          ]
        }
      ],
      "source": [
        "\n",
        "print(\"\\n=== ADD/REMOVE COLUMNS ===\")\n",
        "df['Experience'] = [2, 5, 8, 3]                     # Add new column\n",
        "df['Senior'] = df['Age'] > 30                       # Conditional column\n",
        "df = df.drop('Experience', axis=1)                  # Remove column\n",
        "print(\"After modifications:\\n\", df)"
      ]
    },
    {
      "cell_type": "markdown",
      "id": "747a0989",
      "metadata": {
        "id": "747a0989"
      },
      "source": [
        "# 4. HANDLING MISSING VALUES"
      ]
    },
    {
      "cell_type": "code",
      "execution_count": 53,
      "id": "74f038a2",
      "metadata": {
        "id": "74f038a2",
        "outputId": "181c5279-d5c2-4fa4-a72e-e4114e6a9486",
        "colab": {
          "base_uri": "https://localhost:8080/"
        }
      },
      "outputs": [
        {
          "output_type": "stream",
          "name": "stdout",
          "text": [
            "\n",
            "=== MISSING VALUES ===\n",
            "With missing values:\n",
            "       Name   Age   Salary\n",
            "0    Alice  25.0  50000.0\n",
            "1      Bob  30.0      NaN\n",
            "2  Charlie   NaN  70000.0\n",
            "3    David  40.0  80000.0\n",
            "Is null:\n",
            "     Name    Age  Salary\n",
            "0  False  False   False\n",
            "1  False  False    True\n",
            "2  False   True   False\n",
            "3  False  False   False\n",
            "Fill with mean:\n",
            "       Name        Age        Salary\n",
            "0    Alice  25.000000  50000.000000\n",
            "1      Bob  30.000000  66666.666667\n",
            "2  Charlie  31.666667  70000.000000\n",
            "3    David  40.000000  80000.000000\n",
            "After per-column fill:\n",
            "       Name        Age        Salary\n",
            "0    Alice  25.000000  50000.000000\n",
            "1      Bob  30.000000  66666.666667\n",
            "2  Charlie  31.666667  70000.000000\n",
            "3    David  40.000000  80000.000000\n"
          ]
        },
        {
          "output_type": "stream",
          "name": "stderr",
          "text": [
            "/tmp/ipython-input-2976147549.py:24: FutureWarning: A value is trying to be set on a copy of a DataFrame or Series through chained assignment using an inplace method.\n",
            "The behavior will change in pandas 3.0. This inplace method will never work because the intermediate object on which we are setting values always behaves as a copy.\n",
            "\n",
            "For example, when doing 'df[col].method(value, inplace=True)', try using 'df.method({col: value}, inplace=True)' or df[col] = df[col].method(value) instead, to perform the operation inplace on the original object.\n",
            "\n",
            "\n",
            "  df_with_na['Age'].fillna(df_with_na['Age'].mean(), inplace=True)\n",
            "/tmp/ipython-input-2976147549.py:25: FutureWarning: A value is trying to be set on a copy of a DataFrame or Series through chained assignment using an inplace method.\n",
            "The behavior will change in pandas 3.0. This inplace method will never work because the intermediate object on which we are setting values always behaves as a copy.\n",
            "\n",
            "For example, when doing 'df[col].method(value, inplace=True)', try using 'df.method({col: value}, inplace=True)' or df[col] = df[col].method(value) instead, to perform the operation inplace on the original object.\n",
            "\n",
            "\n",
            "  df_with_na['Salary'].fillna(df_with_na['Salary'].mean(), inplace=True)\n"
          ]
        }
      ],
      "source": [
        "import pandas as pd\n",
        "import numpy as np\n",
        "\n",
        "# Contoh DataFrame (pastikan df didefinisikan)\n",
        "df = pd.DataFrame({\n",
        "    'Name': ['Alice', 'Bob', 'Charlie', 'David'],\n",
        "    'Age': [25, 30, 35, 40],\n",
        "    'Salary': [50000, 60000, 70000, 80000]\n",
        "})\n",
        "\n",
        "print(\"\\n=== MISSING VALUES ===\")\n",
        "df_with_na = df.copy()\n",
        "df_with_na.loc[1, 'Salary'] = np.nan\n",
        "df_with_na.loc[2, 'Age'] = np.nan\n",
        "\n",
        "print(\"With missing values:\\n\", df_with_na)\n",
        "print(\"Is null:\\n\", df_with_na.isnull())\n",
        "\n",
        "# Isi missing values numeric dengan mean kolom (aman untuk kolom non-numeric)\n",
        "df_filled = df_with_na.fillna(df_with_na.mean(numeric_only=True))\n",
        "print(\"Fill with mean:\\n\", df_filled)\n",
        "\n",
        "# Alternatif (per-kolom, in-place)\n",
        "df_with_na['Age'].fillna(df_with_na['Age'].mean(), inplace=True)\n",
        "df_with_na['Salary'].fillna(df_with_na['Salary'].mean(), inplace=True)\n",
        "print(\"After per-column fill:\\n\", df_with_na)\n"
      ]
    },
    {
      "cell_type": "markdown",
      "id": "4c8169ad",
      "metadata": {
        "id": "4c8169ad"
      },
      "source": [
        "# 5. GROUPING & AGGREGATION"
      ]
    },
    {
      "cell_type": "code",
      "execution_count": 54,
      "id": "cbd1d610",
      "metadata": {
        "id": "cbd1d610",
        "outputId": "5a5fdd75-46d3-4115-e875-a12dcfb9cc3e",
        "colab": {
          "base_uri": "https://localhost:8080/"
        }
      },
      "outputs": [
        {
          "output_type": "stream",
          "name": "stdout",
          "text": [
            "\n",
            "=== GROUPING & AGGREGATION ===\n",
            "Grouped means:\n",
            "              Age   Salary\n",
            "Department               \n",
            "Finance     39.0  77500.0\n",
            "HR          29.0  57500.0\n",
            "IT          30.0  60000.0\n",
            "\n",
            "Grouped description (Salary):\n",
            "             count     mean           std      min      25%      50%      75%  \\\n",
            "Department                                                                     \n",
            "Finance       2.0  77500.0   3535.533906  75000.0  76250.0  77500.0  78750.0   \n",
            "HR            2.0  57500.0   3535.533906  55000.0  56250.0  57500.0  58750.0   \n",
            "IT            2.0  60000.0  14142.135624  50000.0  55000.0  60000.0  65000.0   \n",
            "\n",
            "                max  \n",
            "Department           \n",
            "Finance     80000.0  \n",
            "HR          60000.0  \n",
            "IT          70000.0  \n"
          ]
        }
      ],
      "source": [
        "import pandas as pd\n",
        "import numpy as np\n",
        "\n",
        "# DataFrame dengan kolom Department\n",
        "df = pd.DataFrame({\n",
        "    'Name': ['Alice', 'Bob', 'Charlie', 'David', 'Eva', 'Frank'],\n",
        "    'Department': ['IT', 'HR', 'IT', 'Finance', 'HR', 'Finance'],\n",
        "    'Age': [25, 30, 35, 40, 28, 38],\n",
        "    'Salary': [50000, 60000, 70000, 80000, 55000, 75000]\n",
        "})\n",
        "\n",
        "print(\"\\n=== GROUPING & AGGREGATION ===\")\n",
        "grouped = df.groupby('Department')\n",
        "\n",
        "# Hitung rata-rata per group\n",
        "print(\"Grouped means:\\n\", grouped.mean(numeric_only=True))\n",
        "\n",
        "# Deskripsi statistik hanya untuk kolom Salary\n",
        "print(\"\\nGrouped description (Salary):\\n\", grouped['Salary'].describe())\n"
      ]
    },
    {
      "cell_type": "markdown",
      "id": "c0a193eb",
      "metadata": {
        "id": "c0a193eb"
      },
      "source": [
        "# 6. SORTING"
      ]
    },
    {
      "cell_type": "code",
      "execution_count": 55,
      "id": "cd4eb266",
      "metadata": {
        "id": "cd4eb266",
        "outputId": "5c3a76f4-46a3-4b2e-9ae8-abe2dac54a60",
        "colab": {
          "base_uri": "https://localhost:8080/"
        }
      },
      "outputs": [
        {
          "output_type": "stream",
          "name": "stdout",
          "text": [
            "\n",
            "=== SORTING ===\n",
            "Sorted by Salary (descending):\n",
            "       Name Department  Age  Salary\n",
            "0    David    Finance   40   80000\n",
            "1    Frank    Finance   38   75000\n",
            "2  Charlie         IT   35   70000\n",
            "3      Bob         HR   30   60000\n",
            "4      Eva         HR   28   55000\n",
            "5    Alice         IT   25   50000\n"
          ]
        }
      ],
      "source": [
        "import pandas as pd\n",
        "\n",
        "# Contoh DataFrame\n",
        "df = pd.DataFrame({\n",
        "    'Name': ['Alice', 'Bob', 'Charlie', 'David', 'Eva', 'Frank'],\n",
        "    'Department': ['IT', 'HR', 'IT', 'Finance', 'HR', 'Finance'],\n",
        "    'Age': [25, 30, 35, 40, 28, 38],\n",
        "    'Salary': [50000, 60000, 70000, 80000, 55000, 75000]\n",
        "})\n",
        "\n",
        "print(\"\\n=== SORTING ===\")\n",
        "df_sorted = df.sort_values(by='Salary', ascending=False, ignore_index=True)\n",
        "print(\"Sorted by Salary (descending):\\n\", df_sorted)\n"
      ]
    },
    {
      "cell_type": "markdown",
      "id": "4aa190db",
      "metadata": {
        "id": "4aa190db"
      },
      "source": [
        "# 7. MERGING & JOINING"
      ]
    },
    {
      "cell_type": "code",
      "execution_count": 56,
      "id": "3c580c45",
      "metadata": {
        "id": "3c580c45",
        "outputId": "0e9a4e13-ed1d-4ca3-ed0c-cc63c37cd542",
        "colab": {
          "base_uri": "https://localhost:8080/"
        }
      },
      "outputs": [
        {
          "output_type": "stream",
          "name": "stdout",
          "text": [
            "\n",
            "=== MERGING ===\n",
            "Merged DataFrame:\n",
            "       Name Department  Age  Salary   Bonus     _merge\n",
            "0    Alice         IT   25   50000  5000.0       both\n",
            "1      Bob         HR   30   60000  3000.0       both\n",
            "2  Charlie         IT   35   70000     NaN  left_only\n",
            "3    David    Finance   40   80000     NaN  left_only\n",
            "4      Eva         HR   28   55000  4000.0       both\n",
            "5    Frank    Finance   38   75000     NaN  left_only\n"
          ]
        }
      ],
      "source": [
        "import pandas as pd\n",
        "\n",
        "# DataFrame utama\n",
        "df = pd.DataFrame({\n",
        "    'Name': ['Alice', 'Bob', 'Charlie', 'David', 'Eva', 'Frank'],\n",
        "    'Department': ['IT', 'HR', 'IT', 'Finance', 'HR', 'Finance'],\n",
        "    'Age': [25, 30, 35, 40, 28, 38],\n",
        "    'Salary': [50000, 60000, 70000, 80000, 55000, 75000]\n",
        "})\n",
        "\n",
        "print(\"\\n=== MERGING ===\")\n",
        "df2 = pd.DataFrame({\n",
        "    'Name': ['Alice', 'Bob', 'Eva'],   # samakan dengan 'Eva' agar match\n",
        "    'Bonus': [5000, 3000, 4000]\n",
        "})\n",
        "\n",
        "merged = pd.merge(df, df2, on='Name', how='left', indicator=True)\n",
        "print(\"Merged DataFrame:\\n\", merged)\n"
      ]
    },
    {
      "cell_type": "markdown",
      "id": "a5ef532c",
      "metadata": {
        "id": "a5ef532c"
      },
      "source": [
        "# 8. PIVOT TABLES"
      ]
    },
    {
      "cell_type": "code",
      "execution_count": 57,
      "id": "8f3a0ee8",
      "metadata": {
        "id": "8f3a0ee8",
        "outputId": "8736a567-1d03-4022-e40d-1471f1c26859",
        "colab": {
          "base_uri": "https://localhost:8080/"
        }
      },
      "outputs": [
        {
          "output_type": "stream",
          "name": "stdout",
          "text": [
            "\n",
            "=== PIVOT TABLES ===\n",
            "Pivot table:\n",
            "                mean  count\n",
            "             Salary Salary\n",
            "Department                \n",
            "Finance     77500.0      2\n",
            "HR          57500.0      2\n",
            "IT          60000.0      2\n"
          ]
        }
      ],
      "source": [
        "print(\"\\n=== PIVOT TABLES ===\")\n",
        "pivot = df.pivot_table(values='Salary', index='Department', aggfunc=['mean', 'count'])\n",
        "print(\"Pivot table:\\n\", pivot)"
      ]
    },
    {
      "cell_type": "markdown",
      "id": "3d90015c",
      "metadata": {
        "id": "3d90015c"
      },
      "source": [
        "# 9. DATETIME OPERATIONS"
      ]
    },
    {
      "cell_type": "code",
      "execution_count": 58,
      "id": "0bffb8bc",
      "metadata": {
        "id": "0bffb8bc",
        "outputId": "d10b0047-6151-4be5-b070-690ce598ce39",
        "colab": {
          "base_uri": "https://localhost:8080/"
        }
      },
      "outputs": [
        {
          "output_type": "stream",
          "name": "stdout",
          "text": [
            "\n",
            "=== DATETIME OPERATIONS ===\n",
            "With dates:\n",
            "       Name Department  Age  Salary  Join_Date  Year\n",
            "0    Alice         IT   25   50000 2023-01-01  2023\n",
            "1      Bob         HR   30   60000 2023-01-02  2023\n",
            "2  Charlie         IT   35   70000 2023-01-03  2023\n",
            "3    David    Finance   40   80000 2023-01-04  2023\n"
          ]
        }
      ],
      "source": [
        "import pandas as pd\n",
        "\n",
        "# Contoh DataFrame\n",
        "df = pd.DataFrame({\n",
        "    'Name': ['Alice', 'Bob', 'Charlie', 'David'],\n",
        "    'Department': ['IT', 'HR', 'IT', 'Finance'],\n",
        "    'Age': [25, 30, 35, 40],\n",
        "    'Salary': [50000, 60000, 70000, 80000]\n",
        "})\n",
        "\n",
        "print(\"\\n=== DATETIME OPERATIONS ===\")\n",
        "\n",
        "# Sesuaikan jumlah tanggal dengan jumlah baris DataFrame\n",
        "dates = pd.date_range('2023-01-01', periods=len(df))\n",
        "\n",
        "# Buat salinan DataFrame\n",
        "df_dates = df.copy()\n",
        "df_dates['Join_Date'] = dates\n",
        "\n",
        "# Ekstrak tahun dari tanggal\n",
        "df_dates['Year'] = df_dates['Join_Date'].dt.year\n",
        "\n",
        "print(\"With dates:\\n\", df_dates)\n"
      ]
    },
    {
      "cell_type": "markdown",
      "id": "918c0958",
      "metadata": {
        "id": "918c0958"
      },
      "source": [
        "# 10. STRING OPERATIONS"
      ]
    },
    {
      "cell_type": "code",
      "execution_count": 59,
      "id": "777149d5",
      "metadata": {
        "id": "777149d5",
        "outputId": "33ea8021-fc85-4d02-97a4-7d525ffe88d2",
        "colab": {
          "base_uri": "https://localhost:8080/"
        }
      },
      "outputs": [
        {
          "output_type": "stream",
          "name": "stdout",
          "text": [
            "\n",
            "=== STRING OPERATIONS ===\n",
            "String operations:\n",
            "       Name Name_Upper  Name_Length\n",
            "0    Alice      ALICE            5\n",
            "1      Bob        BOB            3\n",
            "2  Charlie    CHARLIE            7\n",
            "3    David      DAVID            5\n"
          ]
        }
      ],
      "source": [
        "import pandas as pd\n",
        "\n",
        "# Contoh DataFrame\n",
        "df = pd.DataFrame({\n",
        "    'Name': ['Alice', 'Bob', 'Charlie', 'David'],\n",
        "    'Department': ['IT', 'HR', 'IT', 'Finance'],\n",
        "    'Age': [25, 30, 35, 40],\n",
        "    'Salary': [50000, 60000, 70000, 80000]\n",
        "})\n",
        "\n",
        "print(\"\\n=== STRING OPERATIONS ===\")\n",
        "\n",
        "# Buat salinan DataFrame\n",
        "df_str = df.copy()\n",
        "\n",
        "# Operasi string\n",
        "df_str['Name_Upper'] = df_str['Name'].str.upper()       # UPPERCASE\n",
        "df_str['Name_Length'] = df_str['Name'].str.len()        # Panjang string\n",
        "\n",
        "print(\"String operations:\\n\", df_str[['Name', 'Name_Upper', 'Name_Length']])\n"
      ]
    },
    {
      "cell_type": "markdown",
      "id": "6bb8792f",
      "metadata": {
        "id": "6bb8792f"
      },
      "source": [
        "# 🏋️ LATIHAN 3: OPERASI PANDAS UNTUK DATA ANALYSIS\n",
        "### EXPLORATORY DATA ANALYSIS ###"
      ]
    },
    {
      "cell_type": "code",
      "execution_count": 60,
      "id": "78ac1c77",
      "metadata": {
        "id": "78ac1c77",
        "outputId": "93926991-f05c-45fa-af98-6109d5c45a27",
        "colab": {
          "base_uri": "https://localhost:8080/"
        }
      },
      "outputs": [
        {
          "output_type": "stream",
          "name": "stdout",
          "text": [
            "=== Total Revenue per Product ===\n",
            "   product_id       revenue\n",
            "7           8  32062.915807\n",
            "8           9  30812.566464\n",
            "6           7  30786.212454\n",
            "4           5  29894.628309\n",
            "5           6  29771.241361\n",
            "1           2  28433.373576\n",
            "2           3  27360.489903\n",
            "9          10  25146.428705\n",
            "0           1  24953.204554\n",
            "3           4  23950.525430\n",
            "\n",
            "=== Top 5 Customers ===\n",
            "    customer_id      revenue\n",
            "37           38  5239.536260\n",
            "58           59  5185.221233\n",
            "88           89  4759.149270\n",
            "93           94  4690.528278\n",
            "14           15  4657.289888\n",
            "\n",
            "=== Daily Revenue (Time Series) ===\n",
            "        date      revenue\n",
            "0 2023-01-01  5268.121555\n",
            "1 2023-01-02  4656.102661\n",
            "2 2023-01-03  3226.578585\n",
            "3 2023-01-04  2462.071219\n",
            "4 2023-01-05  3741.645829\n",
            "\n",
            "=== Detected Quantity Anomalies ===\n",
            "Empty DataFrame\n",
            "Columns: [date, product_id, quantity, price, customer_id, revenue]\n",
            "Index: []\n",
            "\n",
            "✅ Pandas operations completed successfully!\n"
          ]
        }
      ],
      "source": [
        "import pandas as pd\n",
        "import numpy as np\n",
        "\n",
        "# ----------------------------------------\n",
        "# 1️⃣ Membuat Dataset Retail\n",
        "# ----------------------------------------\n",
        "np.random.seed(42)\n",
        "dates = pd.date_range('2023-01-01', '2023-03-31', freq='D')\n",
        "retail_data = pd.DataFrame({\n",
        "    'date': np.random.choice(dates, 1000),\n",
        "    'product_id': np.random.randint(1, 11, 1000),\n",
        "    'quantity': np.random.randint(1, 10, 1000),\n",
        "    'price': np.random.uniform(10, 100, 1000),\n",
        "    'customer_id': np.random.randint(1, 101, 1000)\n",
        "})\n",
        "retail_data['revenue'] = retail_data['quantity'] * retail_data['price']\n",
        "\n",
        "# ----------------------------------------\n",
        "# 2️⃣ Total Revenue per Product\n",
        "# ----------------------------------------\n",
        "revenue_per_product = (\n",
        "    retail_data.groupby('product_id')['revenue']\n",
        "    .sum()\n",
        "    .reset_index()\n",
        "    .sort_values('revenue', ascending=False)\n",
        ")\n",
        "print(\"=== Total Revenue per Product ===\")\n",
        "print(revenue_per_product)\n",
        "\n",
        "# ----------------------------------------\n",
        "# 3️⃣ Top 5 Customers Berdasarkan Total Spending\n",
        "# ----------------------------------------\n",
        "top_customers = (\n",
        "    retail_data.groupby('customer_id')['revenue']\n",
        "    .sum()\n",
        "    .reset_index()\n",
        "    .sort_values('revenue', ascending=False)\n",
        "    .head(5)\n",
        ")\n",
        "print(\"\\n=== Top 5 Customers ===\")\n",
        "print(top_customers)\n",
        "\n",
        "# ----------------------------------------\n",
        "# 4️⃣ Daily Revenue (Time Series)\n",
        "# ----------------------------------------\n",
        "daily_revenue = (\n",
        "    retail_data.groupby('date')['revenue']\n",
        "    .sum()\n",
        "    .reset_index()\n",
        "    .sort_values('date')\n",
        ")\n",
        "print(\"\\n=== Daily Revenue (Time Series) ===\")\n",
        "print(daily_revenue.head())\n",
        "\n",
        "# ----------------------------------------\n",
        "# 5️⃣ Fungsi Deteksi Anomali Quantity\n",
        "# ----------------------------------------\n",
        "def detect_quantity_anomalies(df, threshold=2):\n",
        "    mean_q = df['quantity'].mean()\n",
        "    std_q = df['quantity'].std()\n",
        "    z_score = (df['quantity'] - mean_q) / std_q\n",
        "    anomalies = df[np.abs(z_score) > threshold]\n",
        "    return anomalies\n",
        "\n",
        "anomalies = detect_quantity_anomalies(retail_data)\n",
        "print(\"\\n=== Detected Quantity Anomalies ===\")\n",
        "print(anomalies.head())\n",
        "\n",
        "# ----------------------------------------\n",
        "# 6️⃣ Assertions\n",
        "# ----------------------------------------\n",
        "assert len(revenue_per_product) <= 10, \"Should have max 10 products\"\n",
        "assert len(top_customers) == 5, \"Should have top 5 customers\"\n",
        "print(\"\\n✅ Pandas operations completed successfully!\")\n"
      ]
    }
  ],
  "metadata": {
    "kernelspec": {
      "display_name": ".venv",
      "language": "python",
      "name": "python3"
    },
    "language_info": {
      "codemirror_mode": {
        "name": "ipython",
        "version": 3
      },
      "file_extension": ".py",
      "mimetype": "text/x-python",
      "name": "python",
      "nbconvert_exporter": "python",
      "pygments_lexer": "ipython3",
      "version": "3.11.9"
    },
    "colab": {
      "provenance": []
    }
  },
  "nbformat": 4,
  "nbformat_minor": 5
}