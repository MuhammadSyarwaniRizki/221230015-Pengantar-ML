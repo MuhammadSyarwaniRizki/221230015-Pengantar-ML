{
  "cells": [
    {
      "cell_type": "markdown",
      "metadata": {
        "id": "view-in-github",
        "colab_type": "text"
      },
      "source": [
        "<a href=\"https://colab.research.google.com/github/MuhammadSyarwaniRizki/221230015-Pengantar-ML/blob/main/Week-02/Praktikum_1_list_dictionary.ipynb\" target=\"_parent\"><img src=\"https://colab.research.google.com/assets/colab-badge.svg\" alt=\"Open In Colab\"/></a>"
      ]
    },
    {
      "cell_type": "markdown",
      "metadata": {
        "id": "B_-CutPf4i_r"
      },
      "source": [
        "# PRAKTIKUM 1: STRUKTUR DATA LIST DAN DICTIONARY PYTHON\n",
        "\n",
        "## Tujuan Praktikum\n",
        "1. Memahami konsep struktur data list dan dictionary dalam Python\n",
        "2. Mampu melakukan operasi dasar pada list dan dictionary\n",
        "3. Dapat menerapkan list comprehension dan dictionary comprehension\n",
        "4. Memahami penggunaan struktur data yang tepat untuk berbagai skenario\n",
        "\n",
        "## Dasar Teori\n",
        "\n",
        "### List\n",
        "List adalah struktur data yang ordered, mutable, dan dapat menampung elemen dengan tipe data yang berbeda. Karakteristik list:\n",
        "- Ordered: Elemen memiliki posisi/index tertentu\n",
        "- Mutable: Dapat diubah setelah dibuat\n",
        "- Dynamic: Dapat bertambah atau berkurang ukurannya\n",
        "- Heterogeneous: Dapat menampung berbagai tipe data\n",
        "\n",
        "### Dictionary\n",
        "Dictionary adalah struktur data yang unordered, mutable, dan menggunakan key-value pairs. Karakteristik dictionary:\n",
        "- Unordered: Tidak memiliki urutan tertentu (Python 3.7+ menjaga insertion order)\n",
        "- Mutable: Dapat diubah setelah dibuat\n",
        "- Key-Value pairs: Menggunakan key unik untuk mengakses value\n",
        "- Fast lookup: Akses data sangat cepat menggunakan key"
      ]
    },
    {
      "cell_type": "markdown",
      "metadata": {
        "id": "MxKskwUK5fAP"
      },
      "source": [
        "# 🔧 OPERASI FUNDAMENTAL LIST"
      ]
    },
    {
      "cell_type": "markdown",
      "metadata": {
        "id": "iAIJZ86KbWse"
      },
      "source": [
        "## 1. ACCESS"
      ]
    },
    {
      "cell_type": "code",
      "execution_count": 4,
      "metadata": {
        "colab": {
          "base_uri": "https://localhost:8080/"
        },
        "id": "JbcT0iXnbWsf",
        "outputId": "b1e10a27-416d-4710-b41e-4a68d4d09e59"
      },
      "outputs": [
        {
          "output_type": "stream",
          "name": "stdout",
          "text": [
            "Access by index:\n",
            "numbers[0]: 10\n",
            "numbers[-1]: 50\n",
            "numbers[1:4]: [20, 30, 40]\n",
            "numbers[::2]: [10, 30, 50]\n"
          ]
        }
      ],
      "source": [
        "numbers = [10, 20, 30, 40, 50]\n",
        "print(\"Access by index:\")\n",
        "print(\"numbers[0]:\", numbers[0])           # First element\n",
        "print(\"numbers[-1]:\", numbers[-1])         # Last element\n",
        "print(\"numbers[1:4]:\", numbers[1:4])       # Slicing\n",
        "print(\"numbers[::2]:\", numbers[::2])       # Step slicing"
      ]
    },
    {
      "cell_type": "markdown",
      "metadata": {
        "id": "XjyJYpDSbWsh"
      },
      "source": [
        "# 2. ADD ELEMENTS"
      ]
    },
    {
      "cell_type": "code",
      "execution_count": 5,
      "metadata": {
        "colab": {
          "base_uri": "https://localhost:8080/"
        },
        "id": "fuESsFtebWsh",
        "outputId": "af34c02e-0ee9-46b4-806c-8e7d197d10ad"
      },
      "outputs": [
        {
          "output_type": "stream",
          "name": "stdout",
          "text": [
            "After append(60): [10, 20, 30, 40, 50, 60]\n",
            "After insert(2, 25): [10, 20, 25, 30, 40, 50, 60]\n",
            "After extend: [10, 20, 25, 30, 40, 50, 60, 70, 80, 90]\n"
          ]
        }
      ],
      "source": [
        "numbers.append(60)                         # Add to end\n",
        "print(\"After append(60):\", numbers)\n",
        "\n",
        "numbers.insert(2, 25)                      # Insert at index\n",
        "print(\"After insert(2, 25):\", numbers)\n",
        "\n",
        "numbers.extend([70, 80, 90])               # Extend with another list\n",
        "print(\"After extend:\", numbers)"
      ]
    },
    {
      "cell_type": "markdown",
      "metadata": {
        "id": "J4Lgw1j4bWsi"
      },
      "source": [
        "# 3. REMOVE ELEMENTS"
      ]
    },
    {
      "cell_type": "code",
      "execution_count": 6,
      "metadata": {
        "colab": {
          "base_uri": "https://localhost:8080/"
        },
        "id": "aTAwFDRKbWsi",
        "outputId": "9cf323f2-c774-4198-ec77-19932e40d4e4"
      },
      "outputs": [
        {
          "output_type": "stream",
          "name": "stdout",
          "text": [
            "After pop(3): [10, 20, 25, 40, 50, 60, 70, 80, 90], removed: 30\n",
            "After remove(25): [10, 20, 40, 50, 60, 70, 80, 90]\n",
            "After del [0:2]: [40, 50, 60, 70, 80, 90]\n"
          ]
        }
      ],
      "source": [
        "removed = numbers.pop(3)                   # Remove by index\n",
        "print(f\"After pop(3): {numbers}, removed: {removed}\")\n",
        "\n",
        "numbers.remove(25)                         # Remove by value\n",
        "print(\"After remove(25):\", numbers)\n",
        "\n",
        "del numbers[0:2]                           # Delete slice\n",
        "print(\"After del [0:2]:\", numbers)"
      ]
    },
    {
      "cell_type": "markdown",
      "metadata": {
        "id": "vkvegLcSbWsi"
      },
      "source": [
        "# 4. LOOPING"
      ]
    },
    {
      "cell_type": "code",
      "execution_count": 7,
      "metadata": {
        "colab": {
          "base_uri": "https://localhost:8080/"
        },
        "id": "YP9CGRykbWsj",
        "outputId": "034adaa2-4b8c-4e05-81f6-12fbd8a42207"
      },
      "outputs": [
        {
          "output_type": "stream",
          "name": "stdout",
          "text": [
            "\n",
            "Looping techniques:\n",
            "For loop:\n",
            "Index 0: 40\n",
            "Index 1: 50\n",
            "Index 2: 60\n",
            "Index 3: 70\n",
            "Index 4: 80\n",
            "Index 5: 90\n",
            "List comprehension:\n",
            "Squares of numbers > 30: [1600, 2500, 3600, 4900, 6400, 8100]\n"
          ]
        }
      ],
      "source": [
        "print(\"\\nLooping techniques:\")\n",
        "print(\"For loop:\")\n",
        "for i, num in enumerate(numbers):\n",
        "    print(f\"Index {i}: {num}\")\n",
        "\n",
        "print(\"List comprehension:\")\n",
        "squares = [x**2 for x in numbers if x > 30]\n",
        "print(\"Squares of numbers > 30:\", squares)"
      ]
    },
    {
      "cell_type": "markdown",
      "metadata": {
        "id": "qW4VVMUbbWsj"
      },
      "source": [
        "# 5. SORTING"
      ]
    },
    {
      "cell_type": "code",
      "execution_count": 8,
      "metadata": {
        "colab": {
          "base_uri": "https://localhost:8080/"
        },
        "id": "Fm2JMANLbWsj",
        "outputId": "06f6e54a-32ce-462d-8ce9-2b92d4a8b56d"
      },
      "outputs": [
        {
          "output_type": "stream",
          "name": "stdout",
          "text": [
            "Sorted ascending: [1, 1, 2, 3, 4, 5, 6, 9]\n",
            "Sorted descending: [9, 6, 5, 4, 3, 2, 1, 1]\n"
          ]
        }
      ],
      "source": [
        "random_nums = [3, 1, 4, 1, 5, 9, 2, 6]\n",
        "random_nums.sort()                         # In-place sort\n",
        "print(\"Sorted ascending:\", random_nums)\n",
        "\n",
        "random_nums.sort(reverse=True)             # Descending sort\n",
        "print(\"Sorted descending:\", random_nums)"
      ]
    },
    {
      "cell_type": "markdown",
      "metadata": {
        "id": "W-dXw6UBbWsj"
      },
      "source": [
        "# 6. COPYING"
      ]
    },
    {
      "cell_type": "code",
      "execution_count": 9,
      "metadata": {
        "colab": {
          "base_uri": "https://localhost:8080/"
        },
        "id": "ZU2uSZ_DbWsk",
        "outputId": "41a2f359-fd28-4684-d754-8c7f0a1ee916"
      },
      "outputs": [
        {
          "output_type": "stream",
          "name": "stdout",
          "text": [
            "Original: [1, 2, 3], Copy: [1, 2, 3]\n"
          ]
        }
      ],
      "source": [
        "original = [1, 2, 3]\n",
        "copy_ori = original\n",
        "shallow_copy = original.copy()             # Shallow copy\n",
        "deep_copy = original[:]                    # Another way to copy\n",
        "print(f\"Original: {original}, Copy: {shallow_copy}\")"
      ]
    },
    {
      "cell_type": "code",
      "execution_count": 10,
      "metadata": {
        "colab": {
          "base_uri": "https://localhost:8080/"
        },
        "id": "8Iu9WMrMbWsk",
        "outputId": "747771c4-4b3f-4cb6-dd88-4783d4fc7602"
      },
      "outputs": [
        {
          "output_type": "stream",
          "name": "stdout",
          "text": [
            "[1, 2, 3, 2]\n",
            "[1, 2, 3]\n"
          ]
        }
      ],
      "source": [
        "original.append(2)\n",
        "print(copy_ori)\n",
        "print(shallow_copy)\n"
      ]
    },
    {
      "cell_type": "markdown",
      "metadata": {
        "id": "IFVwJ5SbbWsk"
      },
      "source": [
        "# 7. AGGREGATION"
      ]
    },
    {
      "cell_type": "code",
      "execution_count": 11,
      "metadata": {
        "colab": {
          "base_uri": "https://localhost:8080/"
        },
        "id": "Jwx1_be0bWsk",
        "outputId": "d9b6e32e-b345-4649-82e7-a90366ab6afa"
      },
      "outputs": [
        {
          "output_type": "stream",
          "name": "stdout",
          "text": [
            "Length: 5\n",
            "Min: 10, Max: 50\n",
            "Sum: 150\n",
            "Mean: 30.00\n"
          ]
        }
      ],
      "source": [
        "data = [10, 20, 30, 40, 50]\n",
        "print(f\"Length: {len(data)}\")\n",
        "print(f\"Min: {min(data)}, Max: {max(data)}\")\n",
        "print(f\"Sum: {sum(data)}\")\n",
        "print(f\"Mean: {sum(data)/len(data):.2f}\")"
      ]
    },
    {
      "cell_type": "markdown",
      "metadata": {
        "id": "szBBYNo5bWsk"
      },
      "source": [
        "# 8. JOINING"
      ]
    },
    {
      "cell_type": "code",
      "execution_count": 12,
      "metadata": {
        "colab": {
          "base_uri": "https://localhost:8080/"
        },
        "id": "s5i5SpR8bWsl",
        "outputId": "73279ec4-087d-4ba0-d36e-c5077851c535"
      },
      "outputs": [
        {
          "output_type": "stream",
          "name": "stdout",
          "text": [
            "Combined lists: [1, 2, 3, 4, 5, 6]\n"
          ]
        }
      ],
      "source": [
        "list1 = [1, 2, 3]\n",
        "list2 = [4, 5, 6]\n",
        "combined = list1 + list2                   # Concatenation\n",
        "print(\"Combined lists:\", combined)"
      ]
    },
    {
      "cell_type": "markdown",
      "metadata": {
        "id": "FKlZsU5kbWsl"
      },
      "source": [
        "# 9. TYPE CHECKING"
      ]
    },
    {
      "cell_type": "code",
      "execution_count": 13,
      "metadata": {
        "colab": {
          "base_uri": "https://localhost:8080/"
        },
        "id": "wvb3Pbme4bjD",
        "outputId": "33667ab0-1578-41a4-8e00-7916445fbd6b"
      },
      "outputs": [
        {
          "output_type": "stream",
          "name": "stdout",
          "text": [
            "Type checking:\n",
            "1 is <class 'int'>\n",
            "hello is <class 'str'>\n",
            "3.14 is <class 'float'>\n",
            "True is <class 'bool'>\n"
          ]
        }
      ],
      "source": [
        "mixed_list = [1, \"hello\", 3.14, True]\n",
        "print(\"Type checking:\")\n",
        "for item in mixed_list:\n",
        "    print(f\"{item} is {type(item)}\")"
      ]
    },
    {
      "cell_type": "markdown",
      "metadata": {
        "id": "fNyWBtSv5nOB"
      },
      "source": [
        "# 🔧 OPERASI FUNDAMENTAL DICTIONARY"
      ]
    },
    {
      "cell_type": "markdown",
      "metadata": {
        "id": "Bl8AB4ySbWsl"
      },
      "source": [
        "# 1. CREATE & ACCESS"
      ]
    },
    {
      "cell_type": "code",
      "execution_count": 14,
      "metadata": {
        "colab": {
          "base_uri": "https://localhost:8080/"
        },
        "id": "7nQxFeb7bWsm",
        "outputId": "36bf1fad-2bc0-43e3-f534-0944ab31f823"
      },
      "outputs": [
        {
          "output_type": "stream",
          "name": "stdout",
          "text": [
            "Access operations:\n",
            "student['name']: Alice\n",
            "student.get('age'): 20\n",
            "student.get('address', 'Not found'): Not found\n"
          ]
        }
      ],
      "source": [
        "student = {\n",
        "    'name': 'Alice',\n",
        "    'age': 20,\n",
        "    'grades': [85, 90, 78],\n",
        "    'courses': {'math': 'A', 'physics': 'B'}\n",
        "}\n",
        "\n",
        "print(\"Access operations:\")\n",
        "print(\"student['name']:\", student['name'])\n",
        "print(\"student.get('age'):\", student.get('age'))\n",
        "print(\"student.get('address', 'Not found'):\", student.get('address', 'Not found'))"
      ]
    },
    {
      "cell_type": "markdown",
      "metadata": {
        "id": "D2IH3GTmbWsm"
      },
      "source": [
        "# 2. ADD & UPDATE"
      ]
    },
    {
      "cell_type": "code",
      "execution_count": 15,
      "metadata": {
        "colab": {
          "base_uri": "https://localhost:8080/"
        },
        "id": "RDp-YeT2bWsm",
        "outputId": "8d3228c7-7c6e-46a0-b674-0376bc27b46c"
      },
      "outputs": [
        {
          "output_type": "stream",
          "name": "stdout",
          "text": [
            "After adding major: {'name': 'Alice', 'age': 20, 'grades': [85, 90, 78], 'courses': {'math': 'A', 'physics': 'B'}, 'major': 'Computer Science'}\n",
            "After update: {'name': 'Alice', 'age': 21, 'grades': [85, 90, 78], 'courses': {'math': 'A', 'physics': 'B'}, 'major': 'Computer Science', 'year': 2}\n"
          ]
        }
      ],
      "source": [
        "student['major'] = 'Computer Science'      # Add new key\n",
        "print(\"After adding major:\", student)\n",
        "\n",
        "student.update({'age': 21, 'year': 2})     # Update multiple\n",
        "print(\"After update:\", student)"
      ]
    },
    {
      "cell_type": "markdown",
      "metadata": {
        "id": "uUqPArdLbWsm"
      },
      "source": [
        "# 3. REMOVE"
      ]
    },
    {
      "cell_type": "code",
      "execution_count": 16,
      "metadata": {
        "colab": {
          "base_uri": "https://localhost:8080/"
        },
        "id": "yRWP14TPbWsm",
        "outputId": "8f19673e-adeb-4709-ffa5-02b239716755"
      },
      "outputs": [
        {
          "output_type": "stream",
          "name": "stdout",
          "text": [
            "Removed grades: [85, 90, 78]\n",
            "After del courses: {'name': 'Alice', 'age': 21, 'major': 'Computer Science', 'year': 2}\n"
          ]
        }
      ],
      "source": [
        "removed_grade = student.pop('grades')      # Remove and return\n",
        "print(f\"Removed grades: {removed_grade}\")\n",
        "\n",
        "del student['courses']                     # Delete key\n",
        "print(\"After del courses:\", student)\n"
      ]
    },
    {
      "cell_type": "markdown",
      "metadata": {
        "id": "0AOTRyfPbWsm"
      },
      "source": [
        "# 4. LOOPING"
      ]
    },
    {
      "cell_type": "code",
      "execution_count": 17,
      "metadata": {
        "colab": {
          "base_uri": "https://localhost:8080/"
        },
        "id": "iDXtUFMRbWsm",
        "outputId": "5b3ee6c5-c269-425f-9153-75c01653c438"
      },
      "outputs": [
        {
          "output_type": "stream",
          "name": "stdout",
          "text": [
            "\n",
            "Dictionary looping:\n",
            "Keys: ['name', 'age', 'major', 'year']\n",
            "Values: ['Alice', 21, 'Computer Science', 2]\n",
            "Items: [('name', 'Alice'), ('age', 21), ('major', 'Computer Science'), ('year', 2)]\n",
            "Loop through items:\n",
            "name: Alice\n",
            "age: 21\n",
            "major: Computer Science\n",
            "year: 2\n"
          ]
        }
      ],
      "source": [
        "print(\"\\nDictionary looping:\")\n",
        "print(\"Keys:\", list(student.keys()))\n",
        "print(\"Values:\", list(student.values()))\n",
        "print(\"Items:\", list(student.items()))\n",
        "\n",
        "print(\"Loop through items:\")\n",
        "for key, value in student.items():\n",
        "    print(f\"{key}: {value}\")"
      ]
    },
    {
      "cell_type": "markdown",
      "metadata": {
        "id": "ID8JGL1qbWsm"
      },
      "source": [
        "# 5. COPYING"
      ]
    },
    {
      "cell_type": "code",
      "execution_count": 18,
      "metadata": {
        "colab": {
          "base_uri": "https://localhost:8080/"
        },
        "id": "lvtKC87xbWsn",
        "outputId": "e1a019ee-3a48-4e16-d900-8768a334c2d1"
      },
      "outputs": [
        {
          "output_type": "stream",
          "name": "stdout",
          "text": [
            "Original: {'name': 'Alice', 'age': 21, 'major': 'Computer Science', 'year': 2}\n",
            "Copy: {'name': 'Alice', 'age': 21, 'major': 'Computer Science', 'year': 2}\n"
          ]
        }
      ],
      "source": [
        "student_copy = student.copy()              # Shallow copy\n",
        "print(\"Original:\", student)\n",
        "print(\"Copy:\", student_copy)"
      ]
    },
    {
      "cell_type": "markdown",
      "metadata": {
        "id": "NKpb7aDObWsn"
      },
      "source": [
        "# 6. COMPREHENSION"
      ]
    },
    {
      "cell_type": "code",
      "execution_count": 19,
      "metadata": {
        "colab": {
          "base_uri": "https://localhost:8080/"
        },
        "id": "J9QIfCetbWsn",
        "outputId": "a6c25500-84f3-45d9-c5c0-a0121d7960bf"
      },
      "outputs": [
        {
          "output_type": "stream",
          "name": "stdout",
          "text": [
            "Dictionary comprehension: {1: 1, 2: 4, 3: 9, 4: 16, 5: 25}\n"
          ]
        }
      ],
      "source": [
        "numbers = [1, 2, 3, 4, 5]\n",
        "squares_dict = {x: x**2 for x in numbers}\n",
        "print(\"Dictionary comprehension:\", squares_dict)\n"
      ]
    },
    {
      "cell_type": "markdown",
      "metadata": {
        "id": "prIw7Pg5bWsn"
      },
      "source": [
        "# 7. AGGREGATION"
      ]
    },
    {
      "cell_type": "code",
      "execution_count": 20,
      "metadata": {
        "colab": {
          "base_uri": "https://localhost:8080/"
        },
        "id": "SrAOP8EAbWsn",
        "outputId": "6750ca40-0811-4e2a-ad47-4664dbd1fb09"
      },
      "outputs": [
        {
          "output_type": "stream",
          "name": "stdout",
          "text": [
            "Number of subjects: 3\n",
            "Highest grade: 92\n",
            "Lowest grade: 78\n",
            "Average grade: 85.00\n"
          ]
        }
      ],
      "source": [
        "grades_dict = {'math': 85, 'physics': 92, 'chemistry': 78}\n",
        "print(f\"Number of subjects: {len(grades_dict)}\")\n",
        "print(f\"Highest grade: {max(grades_dict.values())}\")\n",
        "print(f\"Lowest grade: {min(grades_dict.values())}\")\n",
        "print(f\"Average grade: {sum(grades_dict.values())/len(grades_dict):.2f}\")"
      ]
    },
    {
      "cell_type": "markdown",
      "metadata": {
        "id": "TCFZ33TfbWsn"
      },
      "source": [
        "# 8. MERGING DICTIONARIES"
      ]
    },
    {
      "cell_type": "code",
      "execution_count": 21,
      "metadata": {
        "colab": {
          "base_uri": "https://localhost:8080/"
        },
        "id": "sydbOBPMbWsn",
        "outputId": "a9e3bec0-ff9c-4067-864f-2d4a30e8adae"
      },
      "outputs": [
        {
          "output_type": "stream",
          "name": "stdout",
          "text": [
            "Merged dictionaries: {'a': 1, 'b': 3, 'c': 4}\n"
          ]
        }
      ],
      "source": [
        "dict1 = {'a': 1, 'b': 2}\n",
        "dict2 = {'b': 3, 'c': 4}\n",
        "merged = {**dict1, **dict2}                # Merge (dict2 overwrites)\n",
        "print(\"Merged dictionaries:\", merged)"
      ]
    },
    {
      "cell_type": "markdown",
      "metadata": {
        "id": "zpR_NaQMbWsn"
      },
      "source": [
        "# 9. NESTED DICTIONARY OPERATIONS"
      ]
    },
    {
      "cell_type": "code",
      "execution_count": 22,
      "metadata": {
        "colab": {
          "base_uri": "https://localhost:8080/"
        },
        "id": "-20M7z6q45Q8",
        "outputId": "6783df59-3a07-4e60-9997-684f920b9f1e"
      },
      "outputs": [
        {
          "output_type": "stream",
          "name": "stdout",
          "text": [
            "Alice's age: 20\n",
            "Updated Alice's grade: {'age': 20, 'grade': 'A+'}\n"
          ]
        }
      ],
      "source": [
        "school_data = {\n",
        "    'students': {\n",
        "        'Alice': {'age': 20, 'grade': 'A'},\n",
        "        'Bob': {'age': 21, 'grade': 'B'}\n",
        "    }\n",
        "}\n",
        "\n",
        "# Access nested data\n",
        "print(\"Alice's age:\", school_data['students']['Alice']['age'])\n",
        "\n",
        "# Modify nested data\n",
        "school_data['students']['Alice']['grade'] = 'A+'\n",
        "print(\"Updated Alice's grade:\", school_data['students']['Alice'])"
      ]
    },
    {
      "cell_type": "markdown",
      "metadata": {
        "id": "OsbDxW685XML"
      },
      "source": [
        "**LATIHAN**"
      ]
    },
    {
      "cell_type": "code",
      "execution_count": 23,
      "metadata": {
        "colab": {
          "base_uri": "https://localhost:8080/"
        },
        "id": "JxtKyaYK5aS4",
        "outputId": "c981b387-0f4e-459a-9524-17895fff7f15"
      },
      "outputs": [
        {
          "output_type": "stream",
          "name": "stdout",
          "text": [
            "✅ List operations completed\n",
            "✅ Dictionary operations completed\n",
            "\n",
            "--- Hasil Latihan 1 ---\n",
            "Raw Data: [23.5, 24.1, 22.8, 25.3, 21.9, 26.7, 20.5, 24.8, 23.2, 25.9]\n",
            "Filtered Data (22-25): [23.5, 24.1, 22.8, 24.8, 23.2]\n",
            "Normalized Data: [0.48387096774193555, 0.5806451612903228, 0.37096774193548404, 0.774193548387097, 0.22580645161290303, 1.0, 0.0, 0.6935483870967744, 0.4354838709677419, 0.8709677419354838]\n",
            "Moving Average (window=3): [23.46666666666667, 24.066666666666666, 23.333333333333332, 24.633333333333336, 23.03333333333333, 24.0, 22.833333333333332, 24.633333333333336]\n",
            "Grouped Data: {'class_A': [[1.2, 3.4, 2.1], [3.1, 2.8, 1.9]], 'class_B': [[2.3, 1.5, 4.2], [4.2, 3.9, 2.5]]}\n",
            "Average Features per Class: {'class_A': [2.15, 3.0999999999999996, 2.0], 'class_B': [3.25, 2.7, 3.35]}\n"
          ]
        }
      ],
      "source": [
        "# 🏋️ LATIHAN 1: OPERASI LIST DAN DICTIONARY\n",
        "\n",
        "### OPERASI LIST ###\n",
        "\n",
        "'''TODO: Manipulasi Data List untuk Preprocessing'''\n",
        "# Data mentah dari sensor\n",
        "raw_data = [23.5, 24.1, 22.8, 25.3, 21.9, 26.7, 20.5, 24.8, 23.2, 25.9]\n",
        "\n",
        "# TODO 1: Filter data yang berada di range 22-25 derajat\n",
        "filtered_data = [x for x in raw_data if 22 <= x <= 25]\n",
        "\n",
        "# TODO 2: Normalisasi data ke range 0-1 menggunakan min-max scaling\n",
        "data_min = min(raw_data)\n",
        "data_max = max(raw_data)\n",
        "normalized_data = [(x - data_min) / (data_max - data_min) for x in raw_data]\n",
        "\n",
        "# TODO 3: Hitung moving average dengan window size 3\n",
        "def moving_average(data, window_size):\n",
        "    return [sum(data[i:i+window_size]) / window_size\n",
        "            for i in range(len(data) - window_size + 1)]\n",
        "\n",
        "ma_result = moving_average(raw_data, 3)\n",
        "\n",
        "assert len(filtered_data) <= len(raw_data), \"Filtered data should not be longer\"\n",
        "assert all(0 <= x <= 1 for x in normalized_data), \"Normalized data should be 0-1\"\n",
        "print(\"✅ List operations completed\")\n",
        "\n",
        "### OPERASI DICTIONARY ###\n",
        "\n",
        "'''TODO: Processing Dataset untuk Machine Learning'''\n",
        "# Dataset sample untuk klasifikasi\n",
        "dataset = [\n",
        "    {'features': [1.2, 3.4, 2.1], 'label': 'class_A'},\n",
        "    {'features': [2.3, 1.5, 4.2], 'label': 'class_B'},\n",
        "    {'features': [3.1, 2.8, 1.9], 'label': 'class_A'},\n",
        "    {'features': [4.2, 3.9, 2.5], 'label': 'class_B'}\n",
        "]\n",
        "\n",
        "# TODO 4: Kelompokkan data berdasarkan label\n",
        "def group_by_label(data):\n",
        "    grouped = {}\n",
        "    for item in data:\n",
        "        label = item['label']\n",
        "        features = item['features']\n",
        "        if label not in grouped:\n",
        "            grouped[label] = []\n",
        "        grouped[label].append(features)\n",
        "    return grouped\n",
        "\n",
        "grouped_data = group_by_label(dataset)\n",
        "\n",
        "# TODO 5: Hitung rata-rata features per kelas\n",
        "def average_features_per_class(grouped_data):\n",
        "    avg_dict = {}\n",
        "    for label, features_list in grouped_data.items():\n",
        "        # Transpose list of features → zip(*features_list)\n",
        "        avg = [sum(f)/len(f) for f in zip(*features_list)]\n",
        "        avg_dict[label] = avg\n",
        "    return avg_dict\n",
        "\n",
        "avg_features = average_features_per_class(grouped_data)\n",
        "\n",
        "assert 'class_A' in grouped_data, \"Should contain class_A\"\n",
        "assert 'class_B' in grouped_data, \"Should contain class_B\"\n",
        "print(\"✅ Dictionary operations completed\")\n",
        "\n",
        "# Output ringkasan\n",
        "print(\"\\n--- Hasil Latihan 1 ---\")\n",
        "print(\"Raw Data:\", raw_data)\n",
        "print(\"Filtered Data (22-25):\", filtered_data)\n",
        "print(\"Normalized Data:\", normalized_data)\n",
        "print(\"Moving Average (window=3):\", ma_result)\n",
        "print(\"Grouped Data:\", grouped_data)\n",
        "print(\"Average Features per Class:\", avg_features)\n"
      ]
    }
  ],
  "metadata": {
    "colab": {
      "provenance": [],
      "include_colab_link": true
    },
    "kernelspec": {
      "display_name": "base",
      "language": "python",
      "name": "python3"
    },
    "language_info": {
      "codemirror_mode": {
        "name": "ipython",
        "version": 3
      },
      "file_extension": ".py",
      "mimetype": "text/x-python",
      "name": "python",
      "nbconvert_exporter": "python",
      "pygments_lexer": "ipython3",
      "version": "3.11.5"
    }
  },
  "nbformat": 4,
  "nbformat_minor": 0
}